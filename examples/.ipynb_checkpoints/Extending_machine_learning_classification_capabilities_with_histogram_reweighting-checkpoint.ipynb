{
 "cells": [
  {
   "cell_type": "code",
   "execution_count": 2,
   "id": "77e9decd",
   "metadata": {},
   "outputs": [
    {
     "ename": "SyntaxError",
     "evalue": "invalid syntax (2392221948.py, line 5)",
     "output_type": "error",
     "traceback": [
      "\u001b[0;36m  File \u001b[0;32m\"/tmp/ipykernel_27312/2392221948.py\"\u001b[0;36m, line \u001b[0;32m5\u001b[0m\n\u001b[0;31m    import ../LGTp as lgt\u001b[0m\n\u001b[0m           ^\u001b[0m\n\u001b[0;31mSyntaxError\u001b[0m\u001b[0;31m:\u001b[0m invalid syntax\n"
     ]
    }
   ],
   "source": [
    "import numpy as np\n",
    "import matplotlib.pyplot as plt\n",
    "%matplotlib inline\n",
    "\n",
    "import LGTp as lgt"
   ]
  },
  {
   "cell_type": "markdown",
   "id": "e626da33",
   "metadata": {},
   "source": [
    "# Review of Extending machine learning classification capabilities with histogram reweighting  \n",
    "  \n",
    "ref : [Bachtis, Aarts, Lucini, Phys. Rev. E 102, 033303](https://journals.aps.org/pre/pdf/10.1103/PhysRevE.102.033303)\n",
    "\n",
    "This note is to review and reproduce phase detection using machine learning with histogram reweighting.  It will be done by following procedure.  \n",
    "1. We define Ising model action and generate Ising model configurations using Wolff algorithm for traning and validation.  \n",
    "2. Build CNN layers proposed in the ref and train using the Ising model configurations\n",
    "3. Summarize about histogram reweighting and apply it to CNN output"
   ]
  },
  {
   "cell_type": "markdown",
   "id": "885a62c7",
   "metadata": {},
   "source": [
    "## 1. Ising model action and 2d lattice object"
   ]
  },
  {
   "cell_type": "code",
   "execution_count": 33,
   "id": "651bec38",
   "metadata": {},
   "outputs": [],
   "source": [
    "ising1 = lgt.Lattice([16,16])"
   ]
  },
  {
   "cell_type": "code",
   "execution_count": 34,
   "id": "cade93ab",
   "metadata": {},
   "outputs": [],
   "source": [
    "ising1.init_fields('Ising','Cold')"
   ]
  },
  {
   "cell_type": "code",
   "execution_count": 35,
   "id": "f7ec836b",
   "metadata": {},
   "outputs": [
    {
     "data": {
      "text/plain": [
       "(16, 16)"
      ]
     },
     "execution_count": 35,
     "metadata": {},
     "output_type": "execute_result"
    }
   ],
   "source": [
    "ising1.field.shape"
   ]
  },
  {
   "cell_type": "code",
   "execution_count": 36,
   "id": "779d2831",
   "metadata": {},
   "outputs": [
    {
     "data": {
      "text/plain": [
       "array([[1., 1., 1., 1., 1., 1., 1., 1., 1., 1., 1., 1., 1., 1., 1., 1.],\n",
       "       [1., 1., 1., 1., 1., 1., 1., 1., 1., 1., 1., 1., 1., 1., 1., 1.],\n",
       "       [1., 1., 1., 1., 1., 1., 1., 1., 1., 1., 1., 1., 1., 1., 1., 1.],\n",
       "       [1., 1., 1., 1., 1., 1., 1., 1., 1., 1., 1., 1., 1., 1., 1., 1.],\n",
       "       [1., 1., 1., 1., 1., 1., 1., 1., 1., 1., 1., 1., 1., 1., 1., 1.],\n",
       "       [1., 1., 1., 1., 1., 1., 1., 1., 1., 1., 1., 1., 1., 1., 1., 1.],\n",
       "       [1., 1., 1., 1., 1., 1., 1., 1., 1., 1., 1., 1., 1., 1., 1., 1.],\n",
       "       [1., 1., 1., 1., 1., 1., 1., 1., 1., 1., 1., 1., 1., 1., 1., 1.],\n",
       "       [1., 1., 1., 1., 1., 1., 1., 1., 1., 1., 1., 1., 1., 1., 1., 1.],\n",
       "       [1., 1., 1., 1., 1., 1., 1., 1., 1., 1., 1., 1., 1., 1., 1., 1.],\n",
       "       [1., 1., 1., 1., 1., 1., 1., 1., 1., 1., 1., 1., 1., 1., 1., 1.],\n",
       "       [1., 1., 1., 1., 1., 1., 1., 1., 1., 1., 1., 1., 1., 1., 1., 1.],\n",
       "       [1., 1., 1., 1., 1., 1., 1., 1., 1., 1., 1., 1., 1., 1., 1., 1.],\n",
       "       [1., 1., 1., 1., 1., 1., 1., 1., 1., 1., 1., 1., 1., 1., 1., 1.],\n",
       "       [1., 1., 1., 1., 1., 1., 1., 1., 1., 1., 1., 1., 1., 1., 1., 1.],\n",
       "       [1., 1., 1., 1., 1., 1., 1., 1., 1., 1., 1., 1., 1., 1., 1., 1.]])"
      ]
     },
     "execution_count": 36,
     "metadata": {},
     "output_type": "execute_result"
    }
   ],
   "source": [
    "ising1.field"
   ]
  },
  {
   "cell_type": "code",
   "execution_count": 103,
   "id": "ef40fea9",
   "metadata": {},
   "outputs": [],
   "source": [
    "bare_parameters = {'beta':100, 'J':0.5, 'h':1., 'mu':0.1}"
   ]
  },
  {
   "cell_type": "code",
   "execution_count": 104,
   "id": "c741f465",
   "metadata": {},
   "outputs": [],
   "source": [
    "G = lgt.action(ising1, bare_parameters)"
   ]
  },
  {
   "cell_type": "code",
   "execution_count": 105,
   "id": "ecddfb88",
   "metadata": {},
   "outputs": [],
   "source": [
    "beta = bare_parameters[\"beta\"]\n",
    "conf = []\n",
    "old_field = ising1.field"
   ]
  },
  {
   "cell_type": "code",
   "execution_count": 106,
   "id": "09ec3609",
   "metadata": {},
   "outputs": [],
   "source": [
    "new_field = old_field\n",
    "\n",
    "for i in range(100):\n",
    "    g = G.transform()\n",
    "    new_field = old_field*g"
   ]
  },
  {
   "cell_type": "code",
   "execution_count": 107,
   "id": "10313628",
   "metadata": {},
   "outputs": [
    {
     "name": "stderr",
     "output_type": "stream",
     "text": [
      "/home/chanjure/.local/lib/python3.6/site-packages/ipykernel_launcher.py:10: RuntimeWarning: overflow encountered in exp\n",
      "  # Remove the CWD from sys.path while we load stuff.\n"
     ]
    }
   ],
   "source": [
    "for e in range(100):\n",
    "    S_diff = 0.\n",
    "    accept = 0\n",
    "\n",
    "    for i in range(50):\n",
    "        g = G.transform()\n",
    "        new_field = old_field*g\n",
    "        S_diff += G.DS(old_field, new_field)\n",
    "    r = np.random.uniform(0,1)\n",
    "    Ta = min(1, np.exp(-beta*S_diff))\n",
    "    if Ta >= r:\n",
    "        accept = 1\n",
    "        old_field = new_field\n",
    "\n",
    "    conf.append(old_field)"
   ]
  },
  {
   "cell_type": "code",
   "execution_count": 108,
   "id": "f85863e8",
   "metadata": {},
   "outputs": [
    {
     "data": {
      "text/plain": [
       "100"
      ]
     },
     "execution_count": 108,
     "metadata": {},
     "output_type": "execute_result"
    }
   ],
   "source": [
    "len(conf)"
   ]
  },
  {
   "cell_type": "code",
   "execution_count": 109,
   "id": "b87da50b",
   "metadata": {},
   "outputs": [],
   "source": [
    "S_list = []\n",
    "for i in range(100):\n",
    "    S_list.append(G.S(conf[i]))"
   ]
  },
  {
   "cell_type": "code",
   "execution_count": 110,
   "id": "f11da5aa",
   "metadata": {},
   "outputs": [
    {
     "data": {
      "text/plain": [
       "(array([ 1.,  0.,  0.,  0.,  0.,  0.,  0.,  0.,  0., 99.]),\n",
       " array([-369.2 , -350.72, -332.24, -313.76, -295.28, -276.8 , -258.32,\n",
       "        -239.84, -221.36, -202.88, -184.4 ]),\n",
       " <BarContainer object of 10 artists>)"
      ]
     },
     "execution_count": 110,
     "metadata": {},
     "output_type": "execute_result"
    },
    {
     "data": {
      "image/png": "[encoded data removed]",
      "text/plain": [
       "<Figure size 432x288 with 1 Axes>"
      ]
     },
     "metadata": {
      "needs_background": "light"
     },
     "output_type": "display_data"
    }
   ],
   "source": [
    "plt.hist(S_list)"
   ]
  },
  {
   "cell_type": "code",
   "execution_count": 17,
   "id": "a8751dc9",
   "metadata": {},
   "outputs": [],
   "source": []
  },
  {
   "cell_type": "code",
   "execution_count": 18,
   "id": "06174b39",
   "metadata": {},
   "outputs": [
    {
     "data": {
      "text/plain": [
       "array([[ 1, -1,  1,  1, -1, -1, -1,  1, -1, -1, -1,  1, -1, -1,  1, -1],\n",
       "       [ 1,  1, -1,  1,  1,  1, -1,  1, -1, -1,  1,  1,  1, -1,  1, -1],\n",
       "       [-1, -1,  1, -1, -1, -1, -1, -1,  1, -1,  1,  1, -1,  1,  1, -1],\n",
       "       [ 1,  1,  1, -1,  1, -1, -1, -1, -1,  1, -1,  1, -1,  1,  1, -1],\n",
       "       [ 1, -1, -1, -1,  1, -1, -1,  1,  1, -1, -1, -1,  1, -1,  1, -1],\n",
       "       [ 1,  1, -1, -1, -1, -1, -1, -1,  1, -1, -1, -1, -1, -1,  1, -1],\n",
       "       [-1, -1,  1, -1,  1, -1,  1,  1, -1, -1, -1,  1, -1, -1, -1, -1],\n",
       "       [-1,  1,  1,  1, -1, -1, -1, -1,  1, -1, -1,  1, -1,  1,  1,  1],\n",
       "       [-1,  1,  1,  1, -1, -1,  1,  1,  1, -1, -1,  1,  1,  1,  1,  1],\n",
       "       [ 1, -1,  1,  1,  1,  1, -1,  1, -1, -1,  1,  1,  1, -1, -1, -1],\n",
       "       [ 1,  1, -1,  1,  1,  1,  1, -1,  1,  1,  1, -1,  1, -1,  1, -1],\n",
       "       [ 1, -1, -1,  1,  1,  1, -1,  1, -1, -1,  1, -1,  1, -1, -1, -1],\n",
       "       [ 1,  1,  1,  1,  1,  1,  1,  1, -1, -1, -1,  1,  1, -1, -1,  1],\n",
       "       [ 1, -1, -1,  1,  1,  1, -1, -1,  1,  1, -1, -1,  1,  1,  1, -1],\n",
       "       [ 1,  1, -1, -1,  1, -1, -1,  1, -1, -1, -1, -1,  1,  1, -1, -1],\n",
       "       [-1, -1,  1,  1, -1,  1, -1, -1, -1,  1, -1,  1,  1,  1, -1, -1]])"
      ]
     },
     "execution_count": 18,
     "metadata": {},
     "output_type": "execute_result"
    }
   ],
   "source": [
    "g"
   ]
  },
  {
   "cell_type": "code",
   "execution_count": 20,
   "id": "623c08d0",
   "metadata": {},
   "outputs": [],
   "source": []
  },
  {
   "cell_type": "code",
   "execution_count": 21,
   "id": "0ff4e039",
   "metadata": {},
   "outputs": [
    {
     "data": {
      "text/plain": [
       "array([[ 1., -1.,  1.,  1., -1., -1., -1.,  1., -1., -1., -1.,  1., -1.,\n",
       "        -1.,  1., -1.],\n",
       "       [ 1.,  1., -1.,  1.,  1.,  1., -1.,  1., -1., -1.,  1.,  1.,  1.,\n",
       "        -1.,  1., -1.],\n",
       "       [-1., -1.,  1., -1., -1., -1., -1., -1.,  1., -1.,  1.,  1., -1.,\n",
       "         1.,  1., -1.],\n",
       "       [ 1.,  1.,  1., -1.,  1., -1., -1., -1., -1.,  1., -1.,  1., -1.,\n",
       "         1.,  1., -1.],\n",
       "       [ 1., -1., -1., -1.,  1., -1., -1.,  1.,  1., -1., -1., -1.,  1.,\n",
       "        -1.,  1., -1.],\n",
       "       [ 1.,  1., -1., -1., -1., -1., -1., -1.,  1., -1., -1., -1., -1.,\n",
       "        -1.,  1., -1.],\n",
       "       [-1., -1.,  1., -1.,  1., -1.,  1.,  1., -1., -1., -1.,  1., -1.,\n",
       "        -1., -1., -1.],\n",
       "       [-1.,  1.,  1.,  1., -1., -1., -1., -1.,  1., -1., -1.,  1., -1.,\n",
       "         1.,  1.,  1.],\n",
       "       [-1.,  1.,  1.,  1., -1., -1.,  1.,  1.,  1., -1., -1.,  1.,  1.,\n",
       "         1.,  1.,  1.],\n",
       "       [ 1., -1.,  1.,  1.,  1.,  1., -1.,  1., -1., -1.,  1.,  1.,  1.,\n",
       "        -1., -1., -1.],\n",
       "       [ 1.,  1., -1.,  1.,  1.,  1.,  1., -1.,  1.,  1.,  1., -1.,  1.,\n",
       "        -1.,  1., -1.],\n",
       "       [ 1., -1., -1.,  1.,  1.,  1., -1.,  1., -1., -1.,  1., -1.,  1.,\n",
       "        -1., -1., -1.],\n",
       "       [ 1.,  1.,  1.,  1.,  1.,  1.,  1.,  1., -1., -1., -1.,  1.,  1.,\n",
       "        -1., -1.,  1.],\n",
       "       [ 1., -1., -1.,  1.,  1.,  1., -1., -1.,  1.,  1., -1., -1.,  1.,\n",
       "         1.,  1., -1.],\n",
       "       [ 1.,  1., -1., -1.,  1., -1., -1.,  1., -1., -1., -1., -1.,  1.,\n",
       "         1., -1., -1.],\n",
       "       [-1., -1.,  1.,  1., -1.,  1., -1., -1., -1.,  1., -1.,  1.,  1.,\n",
       "         1., -1., -1.]])"
      ]
     },
     "execution_count": 21,
     "metadata": {},
     "output_type": "execute_result"
    }
   ],
   "source": [
    "new_field"
   ]
  },
  {
   "cell_type": "code",
   "execution_count": 24,
   "id": "ae5029ff",
   "metadata": {},
   "outputs": [],
   "source": []
  },
  {
   "cell_type": "code",
   "execution_count": 25,
   "id": "f8307fe4",
   "metadata": {},
   "outputs": [
    {
     "data": {
      "text/plain": [
       "-2084.800000000001"
      ]
     },
     "execution_count": 25,
     "metadata": {},
     "output_type": "execute_result"
    }
   ],
   "source": [
    "S_diff"
   ]
  },
  {
   "cell_type": "code",
   "execution_count": 26,
   "id": "f37b5506",
   "metadata": {},
   "outputs": [],
   "source": []
  },
  {
   "cell_type": "code",
   "execution_count": 27,
   "id": "5daaa8a9",
   "metadata": {},
   "outputs": [
    {
     "name": "stderr",
     "output_type": "stream",
     "text": [
      "/home/chanjure/.local/lib/python3.6/site-packages/ipykernel_launcher.py:1: RuntimeWarning: overflow encountered in exp\n",
      "  \"\"\"Entry point for launching an IPython kernel.\n"
     ]
    }
   ],
   "source": []
  },
  {
   "cell_type": "code",
   "execution_count": 28,
   "id": "fb950af8",
   "metadata": {},
   "outputs": [
    {
     "data": {
      "text/plain": [
       "1"
      ]
     },
     "execution_count": 28,
     "metadata": {},
     "output_type": "execute_result"
    }
   ],
   "source": [
    "Ta"
   ]
  },
  {
   "cell_type": "code",
   "execution_count": 29,
   "id": "1eae3485",
   "metadata": {},
   "outputs": [],
   "source": []
  },
  {
   "cell_type": "code",
   "execution_count": 30,
   "id": "b0243fb5",
   "metadata": {},
   "outputs": [
    {
     "data": {
      "text/plain": [
       "array([[ 1., -1.,  1.,  1., -1., -1., -1.,  1., -1., -1., -1.,  1., -1.,\n",
       "        -1.,  1., -1.],\n",
       "       [ 1.,  1., -1.,  1.,  1.,  1., -1.,  1., -1., -1.,  1.,  1.,  1.,\n",
       "        -1.,  1., -1.],\n",
       "       [-1., -1.,  1., -1., -1., -1., -1., -1.,  1., -1.,  1.,  1., -1.,\n",
       "         1.,  1., -1.],\n",
       "       [ 1.,  1.,  1., -1.,  1., -1., -1., -1., -1.,  1., -1.,  1., -1.,\n",
       "         1.,  1., -1.],\n",
       "       [ 1., -1., -1., -1.,  1., -1., -1.,  1.,  1., -1., -1., -1.,  1.,\n",
       "        -1.,  1., -1.],\n",
       "       [ 1.,  1., -1., -1., -1., -1., -1., -1.,  1., -1., -1., -1., -1.,\n",
       "        -1.,  1., -1.],\n",
       "       [-1., -1.,  1., -1.,  1., -1.,  1.,  1., -1., -1., -1.,  1., -1.,\n",
       "        -1., -1., -1.],\n",
       "       [-1.,  1.,  1.,  1., -1., -1., -1., -1.,  1., -1., -1.,  1., -1.,\n",
       "         1.,  1.,  1.],\n",
       "       [-1.,  1.,  1.,  1., -1., -1.,  1.,  1.,  1., -1., -1.,  1.,  1.,\n",
       "         1.,  1.,  1.],\n",
       "       [ 1., -1.,  1.,  1.,  1.,  1., -1.,  1., -1., -1.,  1.,  1.,  1.,\n",
       "        -1., -1., -1.],\n",
       "       [ 1.,  1., -1.,  1.,  1.,  1.,  1., -1.,  1.,  1.,  1., -1.,  1.,\n",
       "        -1.,  1., -1.],\n",
       "       [ 1., -1., -1.,  1.,  1.,  1., -1.,  1., -1., -1.,  1., -1.,  1.,\n",
       "        -1., -1., -1.],\n",
       "       [ 1.,  1.,  1.,  1.,  1.,  1.,  1.,  1., -1., -1., -1.,  1.,  1.,\n",
       "        -1., -1.,  1.],\n",
       "       [ 1., -1., -1.,  1.,  1.,  1., -1., -1.,  1.,  1., -1., -1.,  1.,\n",
       "         1.,  1., -1.],\n",
       "       [ 1.,  1., -1., -1.,  1., -1., -1.,  1., -1., -1., -1., -1.,  1.,\n",
       "         1., -1., -1.],\n",
       "       [-1., -1.,  1.,  1., -1.,  1., -1., -1., -1.,  1., -1.,  1.,  1.,\n",
       "         1., -1., -1.]])"
      ]
     },
     "execution_count": 30,
     "metadata": {},
     "output_type": "execute_result"
    }
   ],
   "source": [
    "old_field"
   ]
  },
  {
   "cell_type": "code",
   "execution_count": 31,
   "id": "ac5ea224",
   "metadata": {},
   "outputs": [],
   "source": [
    "ising1.field = old_field\n"
   ]
  },
  {
   "cell_type": "code",
   "execution_count": 32,
   "id": "c918d635",
   "metadata": {},
   "outputs": [
    {
     "data": {
      "text/plain": [
       "array([[ 1., -1.,  1.,  1., -1., -1., -1.,  1., -1., -1., -1.,  1., -1.,\n",
       "        -1.,  1., -1.],\n",
       "       [ 1.,  1., -1.,  1.,  1.,  1., -1.,  1., -1., -1.,  1.,  1.,  1.,\n",
       "        -1.,  1., -1.],\n",
       "       [-1., -1.,  1., -1., -1., -1., -1., -1.,  1., -1.,  1.,  1., -1.,\n",
       "         1.,  1., -1.],\n",
       "       [ 1.,  1.,  1., -1.,  1., -1., -1., -1., -1.,  1., -1.,  1., -1.,\n",
       "         1.,  1., -1.],\n",
       "       [ 1., -1., -1., -1.,  1., -1., -1.,  1.,  1., -1., -1., -1.,  1.,\n",
       "        -1.,  1., -1.],\n",
       "       [ 1.,  1., -1., -1., -1., -1., -1., -1.,  1., -1., -1., -1., -1.,\n",
       "        -1.,  1., -1.],\n",
       "       [-1., -1.,  1., -1.,  1., -1.,  1.,  1., -1., -1., -1.,  1., -1.,\n",
       "        -1., -1., -1.],\n",
       "       [-1.,  1.,  1.,  1., -1., -1., -1., -1.,  1., -1., -1.,  1., -1.,\n",
       "         1.,  1.,  1.],\n",
       "       [-1.,  1.,  1.,  1., -1., -1.,  1.,  1.,  1., -1., -1.,  1.,  1.,\n",
       "         1.,  1.,  1.],\n",
       "       [ 1., -1.,  1.,  1.,  1.,  1., -1.,  1., -1., -1.,  1.,  1.,  1.,\n",
       "        -1., -1., -1.],\n",
       "       [ 1.,  1., -1.,  1.,  1.,  1.,  1., -1.,  1.,  1.,  1., -1.,  1.,\n",
       "        -1.,  1., -1.],\n",
       "       [ 1., -1., -1.,  1.,  1.,  1., -1.,  1., -1., -1.,  1., -1.,  1.,\n",
       "        -1., -1., -1.],\n",
       "       [ 1.,  1.,  1.,  1.,  1.,  1.,  1.,  1., -1., -1., -1.,  1.,  1.,\n",
       "        -1., -1.,  1.],\n",
       "       [ 1., -1., -1.,  1.,  1.,  1., -1., -1.,  1.,  1., -1., -1.,  1.,\n",
       "         1.,  1., -1.],\n",
       "       [ 1.,  1., -1., -1.,  1., -1., -1.,  1., -1., -1., -1., -1.,  1.,\n",
       "         1., -1., -1.],\n",
       "       [-1., -1.,  1.,  1., -1.,  1., -1., -1., -1.,  1., -1.,  1.,  1.,\n",
       "         1., -1., -1.]])"
      ]
     },
     "execution_count": 32,
     "metadata": {},
     "output_type": "execute_result"
    }
   ],
   "source": [
    "ising1.field "
   ]
  },
  {
   "cell_type": "code",
   "execution_count": null,
   "id": "ffe51765",
   "metadata": {},
   "outputs": [],
   "source": []
  }
 ],
 "metadata": {
  "kernelspec": {
   "display_name": "Python 3 (ipykernel)",
   "language": "python",
   "name": "python3"
  },
  "language_info": {
   "codemirror_mode": {
    "name": "ipython",
    "version": 3
   },
   "file_extension": ".py",
   "mimetype": "text/x-python",
   "name": "python",
   "nbconvert_exporter": "python",
   "pygments_lexer": "ipython3",
   "version": "3.9.5"
  }
 },
 "nbformat": 4,
 "nbformat_minor": 5
}
