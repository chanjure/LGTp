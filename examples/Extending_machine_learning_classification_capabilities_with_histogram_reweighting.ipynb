{
 "cells": [
  {
   "cell_type": "code",
   "execution_count": 1,
   "id": "77e9decd",
   "metadata": {},
   "outputs": [],
   "source": [
    "import numpy as np\n",
    "import matplotlib.pyplot as plt\n",
    "%matplotlib inline\n",
    "\n",
    "import LGTp as lgt"
   ]
  },
  {
   "cell_type": "markdown",
   "id": "e626da33",
   "metadata": {},
   "source": [
    "# Review of Extending machine learning classification capabilities with histogram reweighting  \n",
    "  \n",
    "ref : [Bachtis, Aarts, Lucini, Phys. Rev. E 102, 033303](https://journals.aps.org/pre/pdf/10.1103/PhysRevE.102.033303)\n",
    "\n",
    "This note is to review and reproduce phase detection using machine learning with histogram reweighting.  It will be done by following procedure.  \n",
    "1. We define Ising model action and generate Ising model configurations using Wolff algorithm for traning and validation.  \n",
    "2. Build CNN layers proposed in the ref and train using the Ising model configurations\n",
    "3. Summarize about histogram reweighting and apply it to CNN output"
   ]
  },
  {
   "cell_type": "code",
   "execution_count": 2,
   "id": "9f38422f",
   "metadata": {},
   "outputs": [],
   "source": [
    "T_hist = []\n",
    "M_hist = []\n",
    "M_err_hist = []\n",
    "N = 16"
   ]
  },
  {
   "cell_type": "markdown",
   "id": "885a62c7",
   "metadata": {},
   "source": [
    "## 1. Autocorrelation test"
   ]
  },
  {
   "cell_type": "code",
   "execution_count": 18,
   "id": "aa9aaa8b",
   "metadata": {},
   "outputs": [],
   "source": [
    "def calcEnergy(config):\n",
    "    energy = 0\n",
    "    \n",
    "    for i in range(len(config)):\n",
    "        for j in range(i):\n",
    "            s = config[i,j]\n",
    "            nn = config[(i+1)%N,j]\n",
    "            + config[(i-1)%N,j]\n",
    "            + config[i,(j+1)%N]\n",
    "            + config[i,(j-1)%N]\n",
    "            energy += -nn*s\n",
    "    return energy\n",
    "\n",
    "def calcMag(config):\n",
    "    mag = np.abs(np.average(config))\n",
    "    #mag = np.average(config)\n",
    "    return mag"
   ]
  },
  {
   "cell_type": "code",
   "execution_count": 60,
   "id": "651bec38",
   "metadata": {},
   "outputs": [],
   "source": [
    "ising1 = lgt.Lattice([N,N])\n",
    "ising2 = lgt.Lattice([N,N])"
   ]
  },
  {
   "cell_type": "code",
   "execution_count": 61,
   "id": "cade93ab",
   "metadata": {},
   "outputs": [],
   "source": [
    "ising1.init_fields('Ising','Cold')\n",
    "ising2.init_fields('Ising','Hot')"
   ]
  },
  {
   "cell_type": "code",
   "execution_count": 62,
   "id": "ca5d8b92",
   "metadata": {},
   "outputs": [
    {
     "data": {
      "text/plain": [
       "1.0"
      ]
     },
     "execution_count": 62,
     "metadata": {},
     "output_type": "execute_result"
    }
   ],
   "source": [
    "calcMag(ising1.field)"
   ]
  },
  {
   "cell_type": "code",
   "execution_count": 63,
   "id": "f7ec836b",
   "metadata": {},
   "outputs": [
    {
     "data": {
      "text/plain": [
       "(16, 16)"
      ]
     },
     "execution_count": 63,
     "metadata": {},
     "output_type": "execute_result"
    }
   ],
   "source": [
    "ising1.field.shape"
   ]
  },
  {
   "cell_type": "code",
   "execution_count": 64,
   "id": "779d2831",
   "metadata": {},
   "outputs": [
    {
     "data": {
      "text/plain": [
       "<matplotlib.image.AxesImage at 0x7f64556c2130>"
      ]
     },
     "execution_count": 64,
     "metadata": {},
     "output_type": "execute_result"
    },
    {
     "data": {
      "image/png": "[encoded data removed]",
      "text/plain": [
       "<Figure size 432x288 with 1 Axes>"
      ]
     },
     "metadata": {
      "needs_background": "light"
     },
     "output_type": "display_data"
    }
   ],
   "source": [
    "plt.imshow(ising1.field,cmap='gray')"
   ]
  },
  {
   "cell_type": "code",
   "execution_count": 65,
   "id": "d6bea814",
   "metadata": {},
   "outputs": [
    {
     "data": {
      "text/plain": [
       "<matplotlib.image.AxesImage at 0x7f64556279d0>"
      ]
     },
     "execution_count": 65,
     "metadata": {},
     "output_type": "execute_result"
    },
    {
     "data": {
      "image/png": "[encoded data removed]",
      "text/plain": [
       "<Figure size 432x288 with 1 Axes>"
      ]
     },
     "metadata": {
      "needs_background": "light"
     },
     "output_type": "display_data"
    }
   ],
   "source": [
    "plt.imshow(ising2.field,cmap='gray')"
   ]
  },
  {
   "cell_type": "code",
   "execution_count": 66,
   "id": "ef40fea9",
   "metadata": {},
   "outputs": [],
   "source": [
    "# started 0 increasing by 1\n",
    "T = np.linspace(1.53,3.28,32)\n",
    "bare_parameters = {'beta':1./T[1], 'J':1., 'h':0.00, 'mu':0.1}"
   ]
  },
  {
   "cell_type": "code",
   "execution_count": null,
   "id": "09ec3609",
   "metadata": {},
   "outputs": [],
   "source": [
    "# Equilibrating phase\n",
    "\n",
    "ising1 = lgt.Lattice([N,N])\n",
    "ising2 = lgt.Lattice([N,N])\n",
    "\n",
    "ising1.init_fields('Ising','Cold')\n",
    "ising2.init_fields('Ising','Hot')\n",
    "\n",
    "M_cold = []\n",
    "M_hot = []\n",
    "\n",
    "n_equi_test = 1000\n",
    "for i in range(n_equi_test):\n",
    "\n",
    "    M_cold.append(calcMag(ising1.field))\n",
    "    M_hot.append(calcMag(ising2.field))\n",
    "    \n",
    "    lgt.metropolis(ising1,bare_parameters)\n",
    "    lgt.metropolis(ising2,bare_parameters)\n",
    "    \n"
   ]
  },
  {
   "cell_type": "code",
   "execution_count": null,
   "id": "470c1fba",
   "metadata": {
    "scrolled": false
   },
   "outputs": [],
   "source": [
    "plt.title(\"Estimation of autocorrelation time\")\n",
    "plt.plot(np.arange(n_equi_test),M_cold,'C0',label='cold')\n",
    "plt.plot(np.arange(n_equi_test),M_hot,'C3',label='hot')\n",
    "plt.legend(loc='upper right')"
   ]
  },
  {
   "cell_type": "code",
   "execution_count": 46,
   "id": "8b88d059",
   "metadata": {},
   "outputs": [],
   "source": [
    "# autocorrelation time\n",
    "t_a = n_equi_test"
   ]
  },
  {
   "cell_type": "code",
   "execution_count": 47,
   "id": "147d09ac",
   "metadata": {},
   "outputs": [
    {
     "data": {
      "text/plain": [
       "50"
      ]
     },
     "execution_count": 47,
     "metadata": {},
     "output_type": "execute_result"
    }
   ],
   "source": [
    "t_a"
   ]
  },
  {
   "cell_type": "code",
   "execution_count": 48,
   "id": "10313628",
   "metadata": {},
   "outputs": [],
   "source": [
    "ising = lgt.Lattice([N,N])\n",
    "ising.init_fields('Ising','Cold')\n",
    "\n",
    "n_equi = 2*t_a\n",
    "for i in range(n_equi):\n",
    "    lgt.metropolis(ising,bare_parameters)\n",
    "    \n",
    "conf = []\n",
    "for e in range(100):\n",
    "    lgt.metropolis(ising,bare_parameters)\n",
    "    conf.append(ising.field)\n",
    "    \n",
    "# for i in range(n_equi):\n",
    "#     g = G.transform()\n",
    "#     new_field = old_field*g\n",
    "#     old_field = new_field\n",
    "\n",
    "# old_field = new_field\n",
    "\n",
    "# plt.imshow(old_field, cmap='gray')\n",
    "# plt.show()\n",
    "\n",
    "# conf = []\n",
    "# for e in range(100):\n",
    "#     S_diff = 0.\n",
    "#     accept = 0\n",
    "\n",
    "#     for i in range(16*16):\n",
    "#         g = G.transform()\n",
    "#         new_field = old_field*g\n",
    "#         S_diff += G.DS(old_field, new_field)\n",
    "        \n",
    "#         r = np.random.uniform(0,1)\n",
    "#         Ta = min(1, np.exp(-beta*S_diff))\n",
    "#         if Ta >= r:\n",
    "#             accept = 1\n",
    "#             old_field = new_field\n",
    "\n",
    "#     conf.append(old_field)"
   ]
  },
  {
   "cell_type": "code",
   "execution_count": 49,
   "id": "f85863e8",
   "metadata": {},
   "outputs": [
    {
     "data": {
      "text/plain": [
       "100"
      ]
     },
     "execution_count": 49,
     "metadata": {},
     "output_type": "execute_result"
    }
   ],
   "source": [
    "len(conf)"
   ]
  },
  {
   "cell_type": "code",
   "execution_count": 50,
   "id": "b87da50b",
   "metadata": {},
   "outputs": [],
   "source": [
    "# S_list = []\n",
    "# for i in range(100):\n",
    "#     S_list.append(G.S(conf[i]))"
   ]
  },
  {
   "cell_type": "code",
   "execution_count": 51,
   "id": "cae1fa01",
   "metadata": {},
   "outputs": [],
   "source": [
    "# plt.hist(S_list, bins=20)"
   ]
  },
  {
   "cell_type": "code",
   "execution_count": 52,
   "id": "d1acda9b",
   "metadata": {},
   "outputs": [
    {
     "data": {
      "image/png": "[encoded data removed]",
      "text/plain": [
       "<Figure size 500x500 with 16 Axes>"
      ]
     },
     "metadata": {
      "needs_background": "light"
     },
     "output_type": "display_data"
    }
   ],
   "source": [
    "fig, ax = plt.subplots(4,4, dpi=125, figsize=(4,4))\n",
    "for i in range(4):\n",
    "    for j in range(4):\n",
    "        ind = i*4 + j\n",
    "        ax[i,j].imshow(conf[ind], vmin=-1, vmax=1, cmap='gray')\n",
    "        ax[i,j].axes.xaxis.set_visible(False)\n",
    "        ax[i,j].axes.yaxis.set_visible(False)\n",
    "    \n",
    "plt.show()"
   ]
  },
  {
   "cell_type": "code",
   "execution_count": 53,
   "id": "5b1983b9",
   "metadata": {},
   "outputs": [],
   "source": [
    "# Measure\n",
    "M = []\n",
    "for i in range(len(conf)):\n",
    "    M.append(calcMag(conf[i]))"
   ]
  },
  {
   "cell_type": "code",
   "execution_count": 54,
   "id": "36ce58c9",
   "metadata": {},
   "outputs": [
    {
     "data": {
      "text/plain": [
       "0.99984375"
      ]
     },
     "execution_count": 54,
     "metadata": {},
     "output_type": "execute_result"
    }
   ],
   "source": [
    "np.fabs(np.mean(M))"
   ]
  },
  {
   "cell_type": "code",
   "execution_count": 55,
   "id": "eca1c3f8",
   "metadata": {},
   "outputs": [
    {
     "data": {
      "text/plain": [
       "0.0010937499999999999"
      ]
     },
     "execution_count": 55,
     "metadata": {},
     "output_type": "execute_result"
    }
   ],
   "source": [
    "np.std(M)"
   ]
  },
  {
   "cell_type": "code",
   "execution_count": 56,
   "id": "14209abb",
   "metadata": {},
   "outputs": [],
   "source": [
    "T_hist.append(1./bare_parameters['beta'])\n",
    "M_hist.append(np.fabs(np.mean(M)))\n",
    "M_err_hist.append(np.std(M))"
   ]
  },
  {
   "cell_type": "code",
   "execution_count": 57,
   "id": "43f3b389",
   "metadata": {},
   "outputs": [
    {
     "data": {
      "text/plain": [
       "2"
      ]
     },
     "execution_count": 57,
     "metadata": {},
     "output_type": "execute_result"
    }
   ],
   "source": [
    "len(T_hist)"
   ]
  },
  {
   "cell_type": "code",
   "execution_count": 59,
   "id": "465a9815",
   "metadata": {},
   "outputs": [
    {
     "data": {
      "text/plain": [
       "<ErrorbarContainer object of 3 artists>"
      ]
     },
     "execution_count": 59,
     "metadata": {},
     "output_type": "execute_result"
    },
    {
     "data": {
      "image/png": "[encoded data removed]",
      "text/plain": [
       "<Figure size 432x288 with 1 Axes>"
      ]
     },
     "metadata": {
      "needs_background": "light"
     },
     "output_type": "display_data"
    }
   ],
   "source": [
    "plt.errorbar(T_hist, M_hist, yerr=M_err_hist, fmt='C0o')"
   ]
  },
  {
   "cell_type": "code",
   "execution_count": null,
   "id": "7f15cbb3",
   "metadata": {},
   "outputs": [],
   "source": []
  },
  {
   "cell_type": "code",
   "execution_count": null,
   "id": "c6a47282",
   "metadata": {},
   "outputs": [],
   "source": []
  },
  {
   "cell_type": "code",
   "execution_count": null,
   "id": "43cca23a",
   "metadata": {},
   "outputs": [],
   "source": []
  }
 ],
 "metadata": {
  "kernelspec": {
   "display_name": "Python 3 (ipykernel)",
   "language": "python",
   "name": "python3"
  },
  "language_info": {
   "codemirror_mode": {
    "name": "ipython",
    "version": 3
   },
   "file_extension": ".py",
   "mimetype": "text/x-python",
   "name": "python",
   "nbconvert_exporter": "python",
   "pygments_lexer": "ipython3",
   "version": "3.9.5"
  }
 },
 "nbformat": 4,
 "nbformat_minor": 5
}
