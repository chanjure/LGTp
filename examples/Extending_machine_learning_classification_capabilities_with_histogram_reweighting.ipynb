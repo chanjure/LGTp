{
 "cells": [
  {
   "cell_type": "code",
   "execution_count": 1,
   "id": "77e9decd",
   "metadata": {},
   "outputs": [],
   "source": [
    "import numpy as np\n",
    "import matplotlib.pyplot as plt\n",
    "%matplotlib inline\n",
    "\n",
    "import LGTp as lgt"
   ]
  },
  {
   "cell_type": "markdown",
   "id": "e626da33",
   "metadata": {},
   "source": [
    "# Review of Extending machine learning classification capabilities with histogram reweighting  \n",
    "  \n",
    "ref : [Bachtis, Aarts, Lucini, Phys. Rev. E 102, 033303](https://journals.aps.org/pre/pdf/10.1103/PhysRevE.102.033303)\n",
    "\n",
    "This note is to review and reproduce phase detection using machine learning with histogram reweighting.  It will be done by following procedure.  \n",
    "1. We define Ising model action and generate Ising model configurations using Wolff algorithm for traning and validation.  \n",
    "2. Build CNN layers proposed in the ref and train using the Ising model configurations\n",
    "3. Summarize about histogram reweighting and apply it to CNN output"
   ]
  },
  {
   "cell_type": "code",
   "execution_count": 2,
   "id": "fcf20cd0",
   "metadata": {},
   "outputs": [],
   "source": [
    "# General parameters\n",
    "seed = 1234\n",
    "ensemble_size = 1000\n",
    "N = 16"
   ]
  },
  {
   "cell_type": "markdown",
   "id": "69e9119f",
   "metadata": {},
   "source": [
    "# 0. Observables"
   ]
  },
  {
   "cell_type": "markdown",
   "id": "745a009d",
   "metadata": {},
   "source": [
    "* Ising model energy\n",
    "\\begin{equation}\n",
    "E = -J\\sum_{i,j \\in nn} \\sigma_{i} \\sigma_{j} + \\mu h \\sum_{i \\in \\Lambda} \\sigma_{i}\n",
    "\\end{equation}"
   ]
  },
  {
   "cell_type": "code",
   "execution_count": 3,
   "id": "aff5899c",
   "metadata": {},
   "outputs": [],
   "source": [
    "def calcEnergy(config):\n",
    "    \"\"\"Calculate energy density\n",
    "    \"\"\"\n",
    "    energy = 0\n",
    "    \n",
    "    for i in range(len(config)):\n",
    "        for j in range(len(config)):\n",
    "            s = config[i,j]\n",
    "            nn = config[(i+1)%N,j] \\\n",
    "            + config[(i-1)%N,j] \\\n",
    "            + config[i,(j+1)%N] \\\n",
    "            + config[i,(j-1)%N]\n",
    "            energy += -nn*s\n",
    "    return energy*0.5/len(config)/len(config)\n",
    "\n",
    "def calcMag(config):\n",
    "    \"\"\"Calculate magnetization\n",
    "    \"\"\"\n",
    "    mag = np.average(config)\n",
    "    return mag\n",
    "\n",
    "def calcAbsMag(config):\n",
    "    \"\"\"Calculate absolute value of magnetization\n",
    "    \"\"\"\n",
    "    mag = np.abs(np.average(config))\n",
    "    return mag"
   ]
  },
  {
   "cell_type": "markdown",
   "id": "885a62c7",
   "metadata": {},
   "source": [
    "## 1. Autocorrelation test"
   ]
  },
  {
   "cell_type": "markdown",
   "id": "1bf1433a",
   "metadata": {},
   "source": [
    "### 1-1. Hot - Cold initialization"
   ]
  },
  {
   "cell_type": "code",
   "execution_count": 4,
   "id": "651bec38",
   "metadata": {},
   "outputs": [],
   "source": [
    "# Generate lattice\n",
    "ising_cold = lgt.Lattice([N,N])\n",
    "ising_cold.init_fields('Ising2d','Cold',seed)\n",
    "\n",
    "ising_hot = lgt.Lattice([N,N])\n",
    "ising_hot.init_fields('Ising2d','Hot',seed)"
   ]
  },
  {
   "cell_type": "code",
   "execution_count": 5,
   "id": "779d2831",
   "metadata": {},
   "outputs": [
    {
     "data": {
      "text/plain": [
       "<matplotlib.colorbar.Colorbar at 0x7f7d86fce970>"
      ]
     },
     "execution_count": 5,
     "metadata": {},
     "output_type": "execute_result"
    },
    {
     "data": {
      "image/png": "[encoded data removed]",
      "text/plain": [
       "<Figure size 432x288 with 2 Axes>"
      ]
     },
     "metadata": {
      "needs_background": "light"
     },
     "output_type": "display_data"
    }
   ],
   "source": [
    "plt.title(\"Cold initial state\")\n",
    "plt.imshow(ising_cold.field,cmap='gray',vmin=-1,vmax=1)\n",
    "plt.colorbar()"
   ]
  },
  {
   "cell_type": "code",
   "execution_count": 6,
   "id": "efee4ee0",
   "metadata": {},
   "outputs": [
    {
     "data": {
      "text/plain": [
       "<matplotlib.colorbar.Colorbar at 0x7f7d84e48d90>"
      ]
     },
     "execution_count": 6,
     "metadata": {},
     "output_type": "execute_result"
    },
    {
     "data": {
      "image/png": "[encoded data removed]",
      "text/plain": [
       "<Figure size 432x288 with 2 Axes>"
      ]
     },
     "metadata": {
      "needs_background": "light"
     },
     "output_type": "display_data"
    }
   ],
   "source": [
    "plt.title(\"Hot initial state\")\n",
    "plt.imshow(ising_hot.field,cmap='gray',vmin=-1,vmax=1)\n",
    "plt.colorbar()"
   ]
  },
  {
   "cell_type": "code",
   "execution_count": 7,
   "id": "ef40fea9",
   "metadata": {},
   "outputs": [],
   "source": [
    "# Input paramters\n",
    "T = np.linspace(1.53,3.28,32)\n",
    "bare_parameters = {'beta':1./T[1], 'J':1., 'h':0.00, 'mu':0.1}"
   ]
  },
  {
   "cell_type": "code",
   "execution_count": 8,
   "id": "0705f1f0",
   "metadata": {},
   "outputs": [],
   "source": [
    "def detect_equi_t(O_cold, O_hot, tol = 1e-1, step = 20):\n",
    "    \n",
    "    t = len(O_cold)\n",
    "    \n",
    "    for i in range(len(O_cold)-step):\n",
    "        \n",
    "        diff = np.abs(np.average(np.abs(O_cold[i:i+step]) - np.abs(O_hot[i:i+step])))\n",
    "        \n",
    "        if diff < tol:\n",
    "            t = i\n",
    "            return t\n",
    "    \n",
    "    return t"
   ]
  },
  {
   "cell_type": "code",
   "execution_count": 9,
   "id": "09ec3609",
   "metadata": {},
   "outputs": [],
   "source": [
    "# Equilibrating phase detection\n",
    "def calc_teq(bare_arg, O, tol=5e-2, step=1000,seed=0):\n",
    "    t_eq = step\n",
    "\n",
    "    O_cold = []\n",
    "    O_hot = []\n",
    "\n",
    "    ising_cold = lgt.Lattice([N,N])\n",
    "    ising_cold.init_fields('Ising2d','Cold',seed)\n",
    "\n",
    "    ising_hot = lgt.Lattice([N,N])\n",
    "    ising_hot.init_fields('Ising2d','Hot',seed)\n",
    "    \n",
    "    for i in range(step):\n",
    "        lgt.metropolis(ising_cold,bare_arg)\n",
    "        lgt.metropolis(ising_hot,bare_arg)\n",
    "\n",
    "        diff = np.abs(O(ising_cold.field) - O(ising_hot.field))\n",
    "        O_cold.append(O(ising_cold.field))\n",
    "        O_hot.append(O(ising_hot.field))\n",
    "\n",
    "        if diff < tol:\n",
    "            t_eq = i\n",
    "            break\n",
    "\n",
    "    plt.title(\"Estimation of autocorrelation time\")\n",
    "    plt.plot(np.arange(t_eq+1),O_cold,'C0',label='cold')\n",
    "    plt.plot(np.arange(t_eq+1),O_hot,'C3',label='hot')\n",
    "    plt.legend(loc='upper right')\n",
    "    plt.xlabel(\"Monte Carlo time\")\n",
    "    plt.ylabel(\"Observable\")\n",
    "    plt.grid(True)\n",
    "    plt.show()\n",
    "    \n",
    "    return t_eq"
   ]
  },
  {
   "cell_type": "code",
   "execution_count": 10,
   "id": "d1e588f8",
   "metadata": {},
   "outputs": [
    {
     "data": {
      "text/plain": [
       "256"
      ]
     },
     "execution_count": 10,
     "metadata": {},
     "output_type": "execute_result"
    }
   ],
   "source": [
    "ising_cold.lat_size"
   ]
  },
  {
   "cell_type": "code",
   "execution_count": 11,
   "id": "3df1839b",
   "metadata": {
    "scrolled": true
   },
   "outputs": [
    {
     "data": {
      "image/png": "[encoded data removed]",
      "text/plain": [
       "<Figure size 432x288 with 1 Axes>"
      ]
     },
     "metadata": {
      "needs_background": "light"
     },
     "output_type": "display_data"
    },
    {
     "name": "stdout",
     "output_type": "stream",
     "text": [
      "35\n"
     ]
    }
   ],
   "source": [
    "t_eq = calc_teq(bare_parameters,calcAbsMag,seed)\n",
    "print(t_eq)"
   ]
  },
  {
   "cell_type": "markdown",
   "id": "3d6876d8",
   "metadata": {},
   "source": [
    "### 1-2. Autocorrelation function"
   ]
  },
  {
   "cell_type": "code",
   "execution_count": 17,
   "id": "6df78b66",
   "metadata": {},
   "outputs": [],
   "source": [
    "def autocorrelation(conf, O, t):\n",
    "    \n",
    "    N = len(conf) - t\n",
    "    \n",
    "#     cor_hist = np.empty(N)\n",
    "    \n",
    "    o1o2 = 0.\n",
    "    o1 = 0.\n",
    "    o2 = 0.\n",
    "    \n",
    "    o1o1 = 0.\n",
    "    o2o2 = 0.\n",
    "    \n",
    "    for i in range(N):\n",
    "        \n",
    "        o1o2 += O(conf[i])*O(conf[i+t])/N\n",
    "        \n",
    "        o1 += O(conf[i])/N\n",
    "        o2 += O(conf[i+t])/N\n",
    "        \n",
    "        o1o1 += O(conf[i])*O(conf[i])/N\n",
    "        o2o2 += O(conf[i+t])*O(conf[i+t])/N\n",
    "        \n",
    "    o1_err = np.sqrt(o1o1 - o1*o1)\n",
    "    o2_err = np.sqrt(o2o2 - o2*o2)\n",
    "        \n",
    "    cor_t = o1o2 - o1*o2\n",
    "        \n",
    "    return cor_t/o1_err/o2_err"
   ]
  },
  {
   "cell_type": "code",
   "execution_count": 18,
   "id": "22391486",
   "metadata": {},
   "outputs": [],
   "source": [
    "def detect_ac_t(ac, tol = 5e-2, step = 3):\n",
    "    \n",
    "    t = len(ac)\n",
    "    \n",
    "    for i in range(len(ac) - step):\n",
    "        \n",
    "        diff = np.average(np.abs(ac[i:i+step]))\n",
    "        \n",
    "        if diff < tol:\n",
    "            t = i\n",
    "            return t\n",
    "    \n",
    "    return t"
   ]
  },
  {
   "cell_type": "code",
   "execution_count": 19,
   "id": "6134af8d",
   "metadata": {},
   "outputs": [],
   "source": [
    "# Generate lattice\n",
    "ising_ac = lgt.Lattice([N,N])\n",
    "ising_ac.init_fields('Ising2d','Cold')"
   ]
  },
  {
   "cell_type": "code",
   "execution_count": 20,
   "id": "38f974eb",
   "metadata": {},
   "outputs": [],
   "source": [
    "# Input paramters\n",
    "T = np.linspace(1.53,3.28,32)\n",
    "bare_parameters = {'beta':1./T[0], 'J':1., 'h':0.00, 'mu':0.1}"
   ]
  },
  {
   "cell_type": "code",
   "execution_count": 21,
   "id": "a76f1a4a",
   "metadata": {},
   "outputs": [],
   "source": [
    "n_equi_ac = t_eq\n",
    "for i in range(n_equi_ac):\n",
    "    lgt.metropolis(ising_ac, bare_parameters)\n",
    "\n",
    "n_conf_ac = 100\n",
    "conf_ac = []\n",
    "M_ac = []\n",
    "for e in range(n_conf_ac):\n",
    "    lgt.metropolis(ising_ac,bare_parameters)\n",
    "    conf_ac.append(ising_ac.field)\n",
    "    Mag = calcMag(ising_ac.field)\n",
    "    M_ac.append(Mag)"
   ]
  },
  {
   "cell_type": "code",
   "execution_count": 22,
   "id": "d2b0f302",
   "metadata": {},
   "outputs": [
    {
     "data": {
      "text/plain": [
       "(100, 16, 16)"
      ]
     },
     "execution_count": 22,
     "metadata": {},
     "output_type": "execute_result"
    }
   ],
   "source": [
    "np.shape(conf_ac)"
   ]
  },
  {
   "cell_type": "code",
   "execution_count": 23,
   "id": "99cfb757",
   "metadata": {
    "scrolled": true
   },
   "outputs": [
    {
     "name": "stderr",
     "output_type": "stream",
     "text": [
      "/tmp/ipykernel_16200/3067718072.py:29: RuntimeWarning: invalid value encountered in double_scalars\n",
      "  return cor_t/o1_err/o2_err\n"
     ]
    }
   ],
   "source": [
    "# Calculate autocorrelation\n",
    "ac_hist = np.empty(len(conf_ac))\n",
    "\n",
    "for i in range(len(conf_ac)):\n",
    "    ac_hist[i] = autocorrelation(conf_ac,calcAbsMag,i)"
   ]
  },
  {
   "cell_type": "code",
   "execution_count": 24,
   "id": "519c146f",
   "metadata": {
    "scrolled": true
   },
   "outputs": [
    {
     "data": {
      "text/plain": [
       "17"
      ]
     },
     "execution_count": 24,
     "metadata": {},
     "output_type": "execute_result"
    }
   ],
   "source": [
    "t_ac = detect_ac_t(ac_hist)\n",
    "t_ac"
   ]
  },
  {
   "cell_type": "code",
   "execution_count": 25,
   "id": "05c26a3b",
   "metadata": {},
   "outputs": [
    {
     "data": {
      "image/png": "[encoded data removed]",
      "text/plain": [
       "<Figure size 432x288 with 1 Axes>"
      ]
     },
     "metadata": {
      "needs_background": "light"
     },
     "output_type": "display_data"
    }
   ],
   "source": [
    "plt.title(\"Autocorrelation plot\")\n",
    "plt.plot(np.arange(len(conf_ac)), ac_hist, 'C0o')\n",
    "plt.xlabel(\"Monte Carlo time\")\n",
    "plt.ylabel(\"Autocorrelation\")\n",
    "plt.grid(\"True\")"
   ]
  },
  {
   "cell_type": "markdown",
   "id": "37443ae2",
   "metadata": {},
   "source": [
    "## 2. Monte Carlo simulation"
   ]
  },
  {
   "cell_type": "code",
   "execution_count": 26,
   "id": "860b5e21",
   "metadata": {},
   "outputs": [],
   "source": [
    "nt = 32\n",
    "\n",
    "nt      = 32         #  number of temperature points\n",
    "N       = 10         #  size of the lattice, N x N\n",
    "eqSteps = 1      #  number of MC sweeps for equilibration\n",
    "mcSteps = 100       #  number of MC sweeps for calculation\n",
    "\n",
    "\n",
    "T       = np.linspace(1.53, 3.28, nt); \n",
    "E,M,C,X = np.zeros(nt), np.zeros(nt), np.zeros(nt), np.zeros(nt)\n",
    "n1, n2  = 1.0/(mcSteps*N*N), 1.0/(mcSteps*mcSteps*N*N) "
   ]
  },
  {
   "cell_type": "code",
   "execution_count": 28,
   "id": "bf22521d",
   "metadata": {},
   "outputs": [],
   "source": [
    "#  MAIN PART OF THE CODE\n",
    "#----------------------------------------------------------------------\n",
    "ensem = []\n",
    "M_err = []\n",
    "\n",
    "for tt in range(nt):\n",
    "    conf = []\n",
    "    \n",
    "    E1 = M1 = E2 = M2 = 0\n",
    "    iT=1.0/T[tt]; iT2=iT*iT;\n",
    "    \n",
    "    ising = lgt.Lattice([N,N])\n",
    "    ising.init_fields('Ising2d','Cold')        # initialise\n",
    "    bare_parameters = ising.bare_parameter_generator()\n",
    "    bare_parameters['beta'] = iT\n",
    "\n",
    "    \n",
    "    for i in range(eqSteps):         # equilibrate\n",
    "        lgt.metropolis(ising,bare_parameters)\n",
    "\n",
    "    M_hist = []\n",
    "    for i in range(mcSteps):\n",
    "        \n",
    "        lgt.metropolis(ising,bare_parameters)\n",
    "        \n",
    "        conf.append(ising.field)\n",
    "        Ene = calcEnergy(ising.field)     # calculate the energy\n",
    "        Mag = calcMag(ising.field)        # calculate the magnetisation\n",
    "\n",
    "        E1 = E1 + Ene\n",
    "        M1 = M1 + Mag\n",
    "        M_hist.append(Mag)\n",
    "        M2 = M2 + Mag*Mag \n",
    "        E2 = E2 + Ene*Ene\n",
    "    \n",
    "    ensem.append(conf)\n",
    "\n",
    "\n",
    "    # divide by number of sites and iteractions to obtain intensive values    \n",
    "    E[tt] = n1*E1\n",
    "    M[tt] = n1*M1\n",
    "    M_err.append(np.std(M_hist)/100.)\n",
    "    C[tt] = (n1*E2 - n2*E1*E1)*iT2\n",
    "    X[tt] = (n1*M2 - n2*M1*M1)*iT"
   ]
  },
  {
   "cell_type": "code",
   "execution_count": 29,
   "id": "f85863e8",
   "metadata": {},
   "outputs": [
    {
     "data": {
      "image/png": "[encoded data removed]",
      "text/plain": [
       "<Figure size 1296x720 with 4 Axes>"
      ]
     },
     "metadata": {
      "needs_background": "light"
     },
     "output_type": "display_data"
    }
   ],
   "source": [
    "#  plot the calculated values   \n",
    "#----------------------------------------------------------------------\n",
    "\n",
    "f = plt.figure(figsize=(18, 10)); #  \n",
    "\n",
    "\n",
    "sp =  f.add_subplot(2, 2, 1 );\n",
    "plt.scatter(T, E, s=50, marker='o', color='IndianRed')\n",
    "plt.xlabel(\"Temperature (T)\", fontsize=20);\n",
    "plt.ylabel(\"Energy \", fontsize=20);         plt.axis('tight');\n",
    "\n",
    "\n",
    "sp =  f.add_subplot(2, 2, 2 );\n",
    "# plt.scatter(T, abs(M), s=50, marker='o', color='RoyalBlue')\n",
    "plt.errorbar(T, abs(M), yerr=M_err, fmt='C0o')\n",
    "plt.xlabel(\"Temperature (T)\", fontsize=20); \n",
    "plt.ylabel(\"Magnetization \", fontsize=20);   plt.axis('tight');\n",
    "\n",
    "\n",
    "sp =  f.add_subplot(2, 2, 3 );\n",
    "plt.scatter(T, C, s=50, marker='o', color='IndianRed')\n",
    "plt.xlabel(\"Temperature (T)\", fontsize=20);  \n",
    "plt.ylabel(\"Specific Heat \", fontsize=20);   plt.axis('tight');   \n",
    "\n",
    "\n",
    "sp =  f.add_subplot(2, 2, 4 );\n",
    "plt.scatter(T, X, s=50, marker='o', color='RoyalBlue')\n",
    "plt.xlabel(\"Temperature (T)\", fontsize=20); \n",
    "plt.ylabel(\"Susceptibility\", fontsize=20);   plt.axis('tight');"
   ]
  },
  {
   "cell_type": "code",
   "execution_count": 46,
   "id": "b87da50b",
   "metadata": {},
   "outputs": [],
   "source": [
    "# S_list = []\n",
    "# for i in range(100):\n",
    "#     S_list.append(G.S(conf[i]))"
   ]
  },
  {
   "cell_type": "code",
   "execution_count": 47,
   "id": "e79b3d81",
   "metadata": {},
   "outputs": [],
   "source": [
    "# plt.hist(S_list, bins=20)"
   ]
  },
  {
   "cell_type": "code",
   "execution_count": 48,
   "id": "7522a63a",
   "metadata": {},
   "outputs": [
    {
     "data": {
      "image/png": "[encoded data removed]",
      "text/plain": [
       "<Figure size 500x500 with 16 Axes>"
      ]
     },
     "metadata": {
      "needs_background": "light"
     },
     "output_type": "display_data"
    }
   ],
   "source": [
    "fig, ax = plt.subplots(4,4, dpi=125, figsize=(4,4))\n",
    "for i in range(4):\n",
    "    for j in range(4):\n",
    "        ind = i*4 + j\n",
    "        ax[i,j].imshow(conf[ind*10], vmin=-1, vmax=1, cmap='gray')\n",
    "        ax[i,j].axes.xaxis.set_visible(False)\n",
    "        ax[i,j].axes.yaxis.set_visible(False)\n",
    "    \n",
    "plt.show()"
   ]
  },
  {
   "cell_type": "code",
   "execution_count": 49,
   "id": "a79a064d",
   "metadata": {},
   "outputs": [],
   "source": [
    "# Measure\n",
    "M = []\n",
    "for i in range(len(conf)):\n",
    "    M.append(calcMag(conf[i]))"
   ]
  },
  {
   "cell_type": "code",
   "execution_count": 50,
   "id": "9081a3ca",
   "metadata": {},
   "outputs": [
    {
     "data": {
      "text/plain": [
       "0.9834375"
      ]
     },
     "execution_count": 50,
     "metadata": {},
     "output_type": "execute_result"
    }
   ],
   "source": [
    "np.fabs(np.mean(M))"
   ]
  },
  {
   "cell_type": "code",
   "execution_count": 61,
   "id": "57d66e7a",
   "metadata": {},
   "outputs": [
    {
     "data": {
      "text/plain": [
       "0.0"
      ]
     },
     "execution_count": 61,
     "metadata": {},
     "output_type": "execute_result"
    }
   ],
   "source": [
    "np.std(M)"
   ]
  },
  {
   "cell_type": "code",
   "execution_count": 62,
   "id": "93b9d15e",
   "metadata": {},
   "outputs": [
    {
     "data": {
      "text/plain": [
       "1000"
      ]
     },
     "execution_count": 62,
     "metadata": {},
     "output_type": "execute_result"
    }
   ],
   "source": [
    "len(conf)"
   ]
  },
  {
   "cell_type": "code",
   "execution_count": 63,
   "id": "11c99c4b",
   "metadata": {},
   "outputs": [
    {
     "name": "stdout",
     "output_type": "stream",
     "text": [
      "Ising_b0.654N16\n"
     ]
    }
   ],
   "source": [
    "conf_name = 'Ising_b%0.3fN%d' %(bare_parameters['beta'],N)\n",
    "print(conf_name)\n",
    "np.save(conf_name+'.npy', conf)"
   ]
  },
  {
   "cell_type": "code",
   "execution_count": 2,
   "id": "0ba5308f",
   "metadata": {},
   "outputs": [],
   "source": [
    "import numpy as np\n",
    "a = np.zeros(3)"
   ]
  },
  {
   "cell_type": "code",
   "execution_count": null,
   "id": "ec053b4f",
   "metadata": {},
   "outputs": [],
   "source": []
  }
 ],
 "metadata": {
  "kernelspec": {
   "display_name": "Python 3 (ipykernel)",
   "language": "python",
   "name": "python3"
  },
  "language_info": {
   "codemirror_mode": {
    "name": "ipython",
    "version": 3
   },
   "file_extension": ".py",
   "mimetype": "text/x-python",
   "name": "python",
   "nbconvert_exporter": "python",
   "pygments_lexer": "ipython3",
   "version": "3.9.5"
  }
 },
 "nbformat": 4,
 "nbformat_minor": 5
}
