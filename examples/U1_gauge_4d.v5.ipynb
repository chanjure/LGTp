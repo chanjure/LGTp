{
 "cells": [
  {
   "cell_type": "code",
   "execution_count": 1,
   "id": "5d631616",
   "metadata": {},
   "outputs": [],
   "source": [
    "import numpy as np\n",
    "import matplotlib.pyplot as plt\n",
    "%matplotlib inline\n",
    "import time\n",
    "import multiprocessing as mp\n",
    "import os\n",
    "from itertools import repeat\n",
    "\n",
    "import LGTp as lgt"
   ]
  },
  {
   "cell_type": "code",
   "execution_count": 2,
   "id": "d0818658",
   "metadata": {},
   "outputs": [
    {
     "data": {
      "text/plain": [
       "8"
      ]
     },
     "execution_count": 2,
     "metadata": {},
     "output_type": "execute_result"
    }
   ],
   "source": [
    "os.cpu_count()"
   ]
  },
  {
   "cell_type": "code",
   "execution_count": 63,
   "id": "7bf723f8",
   "metadata": {},
   "outputs": [],
   "source": [
    "_e = np.identity(4,dtype=int)\n",
    "coordinates = np.arange(4)\n",
    "\n",
    "def calcPlaq(config,x,y,z,t,mu,nu):\n",
    "    \n",
    "    conf_shape = np.array(np.shape(config)[:-1])\n",
    "    n = np.array([x,y,z,t])\n",
    "    \n",
    "    plaq = (config[tuple(n)+(mu,)]\n",
    "            *config[tuple((n+_e[mu])%conf_shape)+(nu,)]\n",
    "            *(config[tuple((n+_e[nu])%conf_shape)+(mu,)].conj())\n",
    "            *(config[tuple(n)+(nu,)].conj())\n",
    "           )\n",
    "    \n",
    "    return plaq\n",
    "\n",
    "def calcAction(config):\n",
    "\n",
    "    N = len(config)\n",
    "    conf_shape = np.array(np.shape(config)[:-1])\n",
    "    s = 0.\n",
    "    \n",
    "    for n in np.ndindex(tuple(conf_shape)):\n",
    "        for mu in range(4):\n",
    "            for nu in range(mu):\n",
    "                s += (1. - calcPlaq(config,n[0],n[1],n[2],n[3],mu,nu)).real\n",
    "    \n",
    "    return s/(N**4)/(4.-1.)/2.\n",
    "\n",
    "def calcPlaqSum(config):\n",
    "    \n",
    "    N = len(config)\n",
    "    conf_shape = np.array(np.shape(config)[:-1])\n",
    "    sp = 0.\n",
    "    \n",
    "    for n in np.ndindex(tuple(conf_shape)):\n",
    "        for nu in range(4):\n",
    "            for mu in range(nu):\n",
    "                sp += calcPlaq(config,n[0],n[1],n[2],n[3],mu,nu).real\n",
    "    \n",
    "    return sp/N**4/(4.-1.)/2.\n",
    "\n",
    "def calcPoly(config):\n",
    "    \n",
    "    conf_shape = np.array(np.shape(config)[:-1])\n",
    "    p = 0.\n",
    "    \n",
    "    for n in np.ndindex(tuple(conf_shape[:-1])):\n",
    "        p_local = 1.\n",
    "        for t in range(conf_shape[3]):\n",
    "            p_local *= config[tuple(n)+(t,)+(3,)]\n",
    "        p += p_local\n",
    "    \n",
    "    return p/(4.**3)\n",
    "\n",
    "def calcPolyAbs(config):\n",
    "\n",
    "    conf_shape = np.array(np.shape(config)[:-1])\n",
    "    p = 0.\n",
    "    \n",
    "    for n in np.ndindex(tuple(conf_shape[:-1])):\n",
    "        p_local = 1.\n",
    "        for t in range(conf_shape[3]):\n",
    "            p_local *= config[tuple(n)+(t,)+(3,)]\n",
    "        p += p_local\n",
    "    \n",
    "    return np.sqrt((p/(4.**3))*(p/(4.**3)).conj())\n",
    "\n",
    "# def calcTopCharg(config):\n",
    "    "
   ]
  },
  {
   "cell_type": "markdown",
   "id": "20a29c45",
   "metadata": {},
   "source": [
    "* For 2D U(1) theory, topological charge is defined as,\n",
    "\n",
    "\\begin{equation}\n",
    "Q \\equiv \\frac{1}{2\\pi} \\sum_{\\vec{n} \\in \\Lambda} \\arg (P_{01} (\\vec{n})), \\quad Q \\in \\mathbb{Z}\n",
    "\\end{equation}"
   ]
  },
  {
   "cell_type": "markdown",
   "id": "885a62c7",
   "metadata": {},
   "source": [
    "## 1. Autocorrelation test"
   ]
  },
  {
   "cell_type": "markdown",
   "id": "1bf1433a",
   "metadata": {},
   "source": [
    "### 1-1. Hot - Cold initialization"
   ]
  },
  {
   "cell_type": "code",
   "execution_count": 61,
   "id": "2597fa9e",
   "metadata": {},
   "outputs": [],
   "source": [
    "N = 4\n",
    "seed = 1234\n",
    "\n",
    "u1_cold = lgt.Lattice([N,N,N,N])\n",
    "u1_cold.init_fields('U1','Cold',seed)\n",
    "\n",
    "u1_hot = lgt.Lattice([N,N,N,N])\n",
    "u1_hot.init_fields('U1','Hot',seed)"
   ]
  },
  {
   "cell_type": "code",
   "execution_count": 62,
   "id": "1b9ed72a",
   "metadata": {},
   "outputs": [
    {
     "data": {
      "text/plain": [
       "<matplotlib.colorbar.Colorbar at 0x7fc9f74e2910>"
      ]
     },
     "execution_count": 62,
     "metadata": {},
     "output_type": "execute_result"
    },
    {
     "data": {
      "image/png": "[encoded data removed]",
      "text/plain": [
       "<Figure size 432x288 with 2 Axes>"
      ]
     },
     "metadata": {
      "needs_background": "light"
     },
     "output_type": "display_data"
    }
   ],
   "source": [
    "plt.title(\"Cold initial state\")\n",
    "plt.imshow(u1_cold.field[0,0,:,:,0].real,cmap='gray',vmin=-1,vmax=1)\n",
    "plt.colorbar()"
   ]
  },
  {
   "cell_type": "code",
   "execution_count": 7,
   "id": "cd35c205",
   "metadata": {},
   "outputs": [
    {
     "data": {
      "text/plain": [
       "<matplotlib.colorbar.Colorbar at 0x7fc9f8700fd0>"
      ]
     },
     "execution_count": 7,
     "metadata": {},
     "output_type": "execute_result"
    },
    {
     "data": {
      "image/png": "[encoded data removed]",
      "text/plain": [
       "<Figure size 432x288 with 2 Axes>"
      ]
     },
     "metadata": {
      "needs_background": "light"
     },
     "output_type": "display_data"
    }
   ],
   "source": [
    "plt.title(\"Hot initial state\")\n",
    "plt.imshow(u1_hot.field[0,0,:,:,0].real,cmap='gray',vmin=-1,vmax=1)\n",
    "plt.colorbar()"
   ]
  },
  {
   "cell_type": "code",
   "execution_count": 8,
   "id": "bc57b633",
   "metadata": {},
   "outputs": [
    {
     "data": {
      "text/plain": [
       "<matplotlib.colorbar.Colorbar at 0x7fc9f865da60>"
      ]
     },
     "execution_count": 8,
     "metadata": {},
     "output_type": "execute_result"
    },
    {
     "data": {
      "image/png": "[encoded data removed]",
      "text/plain": [
       "<Figure size 432x288 with 2 Axes>"
      ]
     },
     "metadata": {
      "needs_background": "light"
     },
     "output_type": "display_data"
    }
   ],
   "source": [
    "plt.title(\"Hot initial state\")\n",
    "plt.imshow(u1_hot.field[0,0,:,:,0].imag,cmap='gray',vmin=-1,vmax=1)\n",
    "plt.colorbar()"
   ]
  },
  {
   "cell_type": "code",
   "execution_count": 9,
   "id": "a8dbab6f",
   "metadata": {},
   "outputs": [
    {
     "data": {
      "text/plain": [
       "{'beta': 0.1}"
      ]
     },
     "execution_count": 9,
     "metadata": {},
     "output_type": "execute_result"
    }
   ],
   "source": [
    "bare_parameters = u1_cold.bare_parameter_generator()\n",
    "bare_parameters"
   ]
  },
  {
   "cell_type": "code",
   "execution_count": 10,
   "id": "0700bfa9",
   "metadata": {},
   "outputs": [],
   "source": [
    "def detect_equi_t(O_cold, O_hot, tol = 1e-1, step = 20):\n",
    "    \n",
    "    t = len(O_cold)\n",
    "    \n",
    "    for i in range(len(O_cold)-step):\n",
    "        \n",
    "        diff = np.abs(np.average(np.abs(O_cold[i:i+step]) - np.abs(O_hot[i:i+step])))\n",
    "        \n",
    "        if diff < tol:\n",
    "            t = i\n",
    "            return t\n",
    "    \n",
    "    return t"
   ]
  },
  {
   "cell_type": "code",
   "execution_count": 11,
   "id": "a85954bb",
   "metadata": {},
   "outputs": [],
   "source": [
    "# Equilibrating phase detection\n",
    "def calc_teq(bare_arg, O, tol=5e-2, step=1000,seed=0):\n",
    "    t_eq = step\n",
    "\n",
    "    O_cold = []\n",
    "    O_hot = []\n",
    "\n",
    "    u1_cold = lgt.Lattice([N,N,N,N])\n",
    "    u1_cold.init_fields('U1','Cold',seed)\n",
    "\n",
    "    u1_hot = lgt.Lattice([N,N,N,N])\n",
    "    u1_hot.init_fields('U1','Hot',seed)\n",
    "    \n",
    "    for i in range(step):\n",
    "        lgt.metropolis(u1_cold,bare_arg)\n",
    "        lgt.metropolis(u1_hot,bare_arg)\n",
    "\n",
    "        diff = np.abs(O(u1_cold.field) - O(u1_hot.field))\n",
    "        O_cold.append(O(u1_cold.field))\n",
    "        O_hot.append(O(u1_hot.field))\n",
    "\n",
    "        if diff < tol:\n",
    "            t_eq = i\n",
    "            break\n",
    "\n",
    "    plt.title(\"Estimation of autocorrelation time\")\n",
    "    plt.plot(np.arange(t_eq+1),O_cold,'C0',label='cold')\n",
    "    plt.plot(np.arange(t_eq+1),O_hot,'C3',label='hot')\n",
    "    plt.legend(loc='upper right')\n",
    "    plt.xlabel(\"Monte Carlo time\")\n",
    "    plt.ylabel(\"Observable\")\n",
    "    plt.grid(True)\n",
    "    plt.show()\n",
    "    \n",
    "    return t_eq"
   ]
  },
  {
   "cell_type": "code",
   "execution_count": 44,
   "id": "3077bccd",
   "metadata": {},
   "outputs": [
    {
     "data": {
      "image/png": "[encoded data removed]",
      "text/plain": [
       "<Figure size 432x288 with 1 Axes>"
      ]
     },
     "metadata": {
      "needs_background": "light"
     },
     "output_type": "display_data"
    },
    {
     "name": "stdout",
     "output_type": "stream",
     "text": [
      "7\n"
     ]
    }
   ],
   "source": [
    "t_eq = calc_teq(bare_parameters,calcPlaqSum,tol=1e-2,seed=seed)\n",
    "print(t_eq)"
   ]
  },
  {
   "cell_type": "markdown",
   "id": "3d6876d8",
   "metadata": {},
   "source": [
    "### 1-2. Autocorrelation function"
   ]
  },
  {
   "cell_type": "code",
   "execution_count": 45,
   "id": "bb194ae0",
   "metadata": {},
   "outputs": [],
   "source": [
    "def autocorrelation(conf, O, t):\n",
    "    \n",
    "    N = len(conf) - t\n",
    "    \n",
    "#     cor_hist = np.empty(N)\n",
    "    \n",
    "    o1o2 = 0.\n",
    "    o1 = 0.\n",
    "    o2 = 0.\n",
    "    \n",
    "    o1o1 = 0.\n",
    "    o2o2 = 0.\n",
    "    \n",
    "    for i in range(N):\n",
    "        \n",
    "        o1o2 += O(conf[i])*O(conf[i+t])/N\n",
    "        \n",
    "        o1 += O(conf[i])/N\n",
    "        o2 += O(conf[i+t])/N\n",
    "        \n",
    "        o1o1 += O(conf[i])*O(conf[i])/N\n",
    "        o2o2 += O(conf[i+t])*O(conf[i+t])/N\n",
    "        \n",
    "    o1_err = np.sqrt(o1o1 - o1*o1)\n",
    "    o2_err = np.sqrt(o2o2 - o2*o2)\n",
    "        \n",
    "    cor_t = o1o2 - o1*o2\n",
    "        \n",
    "    return cor_t/o1_err/o2_err"
   ]
  },
  {
   "cell_type": "code",
   "execution_count": 46,
   "id": "1e7c9a59",
   "metadata": {},
   "outputs": [],
   "source": [
    "def detect_ac_t(ac, tol = 5e-2, step = 3):\n",
    "    \n",
    "    t = len(ac)\n",
    "    \n",
    "    for i in range(len(ac) - step):\n",
    "        \n",
    "        diff = np.average(np.abs(ac[i:i+step]))\n",
    "        \n",
    "        if diff < tol:\n",
    "            t = i\n",
    "            return t\n",
    "    \n",
    "    return t"
   ]
  },
  {
   "cell_type": "code",
   "execution_count": 64,
   "id": "1bd7d526",
   "metadata": {},
   "outputs": [],
   "source": [
    "u1_ac = lgt.Lattice([N,N,N,N])\n",
    "u1_ac.init_fields('U1','Cold',seed=seed)"
   ]
  },
  {
   "cell_type": "code",
   "execution_count": 65,
   "id": "e1903c14",
   "metadata": {},
   "outputs": [],
   "source": [
    "n_equi_ac = t_eq\n",
    "for i in range(n_equi_ac):\n",
    "    lgt.metropolis(u1_ac, bare_parameters)\n",
    "\n",
    "n_conf_ac = 100\n",
    "conf_ac = []\n",
    "Plaq_ac = []\n",
    "for e in range(n_conf_ac):\n",
    "    lgt.metropolis(u1_ac,bare_parameters)\n",
    "    conf_ac.append(u1_ac.field)\n",
    "    Plaq = calcPlaqSum(u1_ac.field)\n",
    "    Plaq_ac.append(Plaq)"
   ]
  },
  {
   "cell_type": "code",
   "execution_count": null,
   "id": "b5611168",
   "metadata": {},
   "outputs": [],
   "source": [
    "# Calculate autocorrelation\n",
    "ac_hist = np.empty(len(conf_ac))\n",
    "\n",
    "for i in range(len(conf_ac)):\n",
    "    ac_hist[i] = autocorrelation(conf_ac,calcPlaqSum,i)"
   ]
  },
  {
   "cell_type": "code",
   "execution_count": null,
   "id": "907ee9cc",
   "metadata": {},
   "outputs": [],
   "source": [
    "t_ac = detect_ac_t(ac_hist)\n",
    "t_ac"
   ]
  },
  {
   "cell_type": "code",
   "execution_count": null,
   "id": "aa025fef",
   "metadata": {},
   "outputs": [],
   "source": [
    "plt.title(\"Autocorrelation plot\")\n",
    "plt.plot(np.arange(len(conf_ac)), ac_hist, 'C0o')\n",
    "plt.xlabel(\"Monte Carlo time\")\n",
    "plt.ylabel(\"Autocorrelation\")\n",
    "plt.grid(\"True\")"
   ]
  },
  {
   "cell_type": "code",
   "execution_count": 9,
   "id": "04b51101",
   "metadata": {},
   "outputs": [],
   "source": [
    "# calculate equilibrating phase\n",
    "nt = 12\n",
    "N = 6\n",
    "eqSteps = 500\n",
    "mcSteps = 1000\n",
    "\n",
    "beta_list = np.linspace(1.0,1.02,nt)\n",
    "n1, n2 = 1./mcSteps, 1./(mcSteps*mcSteps)"
   ]
  },
  {
   "cell_type": "code",
   "execution_count": 10,
   "id": "4f380c6c",
   "metadata": {},
   "outputs": [],
   "source": [
    "# for b in range(nt):\n",
    "def simulate(b):\n",
    "#     start = time.time()\n",
    "\n",
    "    ensemble = []\n",
    "    \n",
    "    config = initialize(N)\n",
    "    \n",
    "    Plq1 = Plq2 = Pol_r1 = Pol_c1 = 0\n",
    "    beta = beta_list[b]\n",
    "    \n",
    "    for i in range(eqSteps):\n",
    "        mcmove(config,beta)\n",
    "        \n",
    "    for i in range(mcSteps):\n",
    "        mcmove(config,beta)\n",
    "        Plaq = calcPlaqSum(config)\n",
    "        Polya = calcPolyAbs(config)\n",
    "        Polya_c = calcPoly(config)\n",
    "        \n",
    "        Plq1 += Plaq\n",
    "        Pol_r1 += Polya\n",
    "        Pol_c1 += Polya_c\n",
    "        Plq2 += Plaq*Plaq\n",
    "        \n",
    "        ensemble.append(config)\n",
    "        \n",
    "    Plq = n1*Plq1\n",
    "    C = beta*beta*(n1*Plq2 - n2*Plq1*Plq1)\n",
    "    Pol_r = n1*Pol_r1\n",
    "    Pol_c = n1*Pol_c1\n",
    "    \n",
    "    conf_name = './data/U1%d/U1_b%0.3fN%d.npy' %(N,beta,N)\n",
    "    np.save(conf_name, ensemble)\n",
    "    \n",
    "    return beta, Plq, C, Pol_r, Pol_c\n",
    "    \n",
    "#     due = time.time() - start\n",
    "#     print(\"done beta :\",beta,' ',due,' sec')"
   ]
  },
  {
   "cell_type": "code",
   "execution_count": 11,
   "id": "db6fd21e",
   "metadata": {},
   "outputs": [
    {
     "name": "stdout",
     "output_type": "stream",
     "text": [
      "time span: 6475.635454177856\n"
     ]
    }
   ],
   "source": [
    "start = time.time()\n",
    "p = mp.Pool(3)\n",
    "res = p.map(simulate, range(nt))\n",
    "p.close()\n",
    "p.join()\n",
    "b,Plq,C,Polr,Polc = np.zeros(nt), np.zeros(nt), np.zeros(nt), np.zeros(nt, dtype=np.complex128), np.zeros(nt, dtype=np.complex128)\n",
    "for i, _r in enumerate(res):\n",
    "    b[i], Plq[i], C[i], Polr[i], Polc[i]= _r\n",
    "    \n",
    "due = time.time() - start\n",
    "print(\"time span:\",due)"
   ]
  },
  {
   "cell_type": "code",
   "execution_count": 12,
   "id": "91fc30fb",
   "metadata": {},
   "outputs": [
    {
     "data": {
      "image/png": "[encoded data removed]",
      "text/plain": [
       "<Figure size 1296x720 with 4 Axes>"
      ]
     },
     "metadata": {
      "needs_background": "light"
     },
     "output_type": "display_data"
    }
   ],
   "source": [
    "f = plt.figure(figsize=(18, 10)); #  \n",
    "\n",
    "\n",
    "sp =  f.add_subplot(2, 2, 1 );\n",
    "plt.scatter(b, Plq, s=50, marker='o', color='IndianRed')\n",
    "plt.xlabel(\"Inverse coupling square beta\", fontsize=20);\n",
    "plt.ylabel(\"Plaqquet sum \", fontsize=20);         plt.axis('tight');\n",
    "plt.grid(True)\n",
    "\n",
    "\n",
    "sp =  f.add_subplot(2, 2, 2 );\n",
    "plt.scatter(b, Polr, s=50, marker='o', color='RoyalBlue')\n",
    "# plt.errorbar(beta_list, Pol_r, yerr=M_err, fmt='C0o')\n",
    "plt.xlabel(\"Inverse coupling square beta\", fontsize=20); \n",
    "plt.ylabel(\"|Polyacov loop| \", fontsize=20);   plt.axis('tight');\n",
    "plt.grid(True)\n",
    "\n",
    "\n",
    "sp =  f.add_subplot(2, 2, 3 );\n",
    "plt.scatter(b, C, s=50, marker='o', color='IndianRed')\n",
    "plt.xlabel(\"Inverse coupling square beta\", fontsize=20);  \n",
    "plt.ylabel(\"Specific Heat \", fontsize=20);   plt.axis('tight');   \n",
    "plt.grid(True)\n",
    "\n",
    "\n",
    "sp =  f.add_subplot(2, 2, 4 );\n",
    "plt.scatter(Polc.real, Polc.imag, s=50, marker='o', color='RoyalBlue')\n",
    "plt.xlabel(\"Re(P)\", fontsize=20); \n",
    "plt.ylabel(\"Im(P)\", fontsize=20);   plt.axis('tight');\n",
    "plt.grid(True)"
   ]
  },
  {
   "cell_type": "code",
   "execution_count": null,
   "id": "6ca9acab",
   "metadata": {},
   "outputs": [],
   "source": []
  }
 ],
 "metadata": {
  "kernelspec": {
   "display_name": "Python 3 (ipykernel)",
   "language": "python",
   "name": "python3"
  },
  "language_info": {
   "codemirror_mode": {
    "name": "ipython",
    "version": 3
   },
   "file_extension": ".py",
   "mimetype": "text/x-python",
   "name": "python",
   "nbconvert_exporter": "python",
   "pygments_lexer": "ipython3",
   "version": "3.9.5"
  }
 },
 "nbformat": 4,
 "nbformat_minor": 5
}
