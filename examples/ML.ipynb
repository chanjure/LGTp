{
 "cells": [
  {
   "cell_type": "code",
   "execution_count": 1,
   "id": "4bc8148c",
   "metadata": {},
   "outputs": [
    {
     "name": "stderr",
     "output_type": "stream",
     "text": [
      "2021-12-07 21:21:46.465648: W tensorflow/stream_executor/platform/default/dso_loader.cc:64] Could not load dynamic library 'libcudart.so.11.0'; dlerror: libcudart.so.11.0: cannot open shared object file: No such file or directory; LD_LIBRARY_PATH: /opt/apps/easybuild/stacks/2021a/software/Python/3.9.5-GCCcore-10.3.0/lib:/opt/apps/easybuild/stacks/2021a/software/libffi/3.3-GCCcore-10.3.0/lib64:/opt/apps/easybuild/stacks/2021a/software/GMP/6.2.1-GCCcore-10.3.0/lib:/opt/apps/easybuild/stacks/2021a/software/SQLite/3.35.4-GCCcore-10.3.0/lib:/opt/apps/easybuild/stacks/2021a/software/Tcl/8.6.11-GCCcore-10.3.0/lib:/opt/apps/easybuild/stacks/2021a/software/libreadline/8.1-GCCcore-10.3.0/lib:/opt/apps/easybuild/stacks/2021a/software/ncurses/6.2-GCCcore-10.3.0/lib:/opt/apps/easybuild/stacks/2021a/software/binutils/2.36.1-GCCcore-10.3.0/lib:/opt/apps/easybuild/stacks/2021a/software/libarchive/3.5.1-GCCcore-10.3.0/lib:/opt/apps/easybuild/stacks/2021a/software/XZ/5.2.5-GCCcore-10.3.0/lib:/opt/apps/easybuild/stacks/2021a/software/cURL/7.76.0-GCCcore-10.3.0/lib:/opt/apps/easybuild/stacks/2021a/software/OpenSSL/1.1/lib:/opt/apps/easybuild/stacks/2021a/software/bzip2/1.0.8-GCCcore-10.3.0/lib:/opt/apps/easybuild/stacks/2021a/software/zlib/1.2.11-GCCcore-10.3.0/lib:/opt/apps/easybuild/stacks/2021a/software/libtool/2.4.6-GCCcore-10.3.0/lib:/opt/apps/easybuild/stacks/2021a/software/GCCcore/10.3.0/lib64\n",
      "2021-12-07 21:21:46.465672: I tensorflow/stream_executor/cuda/cudart_stub.cc:29] Ignore above cudart dlerror if you do not have a GPU set up on your machine.\n"
     ]
    }
   ],
   "source": [
    "from tensorflow import keras\n",
    "import numpy as np\n",
    "import matplotlib.pyplot as plt\n",
    "%matplotlib inline\n",
    "from sklearn.model_selection import train_test_split"
   ]
  },
  {
   "cell_type": "code",
   "execution_count": null,
   "id": "d2d2d560",
   "metadata": {},
   "outputs": [],
   "source": [
    "N = 16"
   ]
  },
  {
   "cell_type": "code",
   "execution_count": 2,
   "id": "e40c5676",
   "metadata": {},
   "outputs": [],
   "source": [
    "work_dir = \"./\"\n",
    "data_dir = \"./data/Ising%d/\"%(N)\n",
    "model_dir = \"./model/\""
   ]
  },
  {
   "cell_type": "markdown",
   "id": "e40dbc8d",
   "metadata": {},
   "source": [
    "# 1. Load data"
   ]
  },
  {
   "cell_type": "code",
   "execution_count": 3,
   "id": "ff63468d",
   "metadata": {},
   "outputs": [
    {
     "name": "stdout",
     "output_type": "stream",
     "text": [
      "sym conf : (9, 1000, 16, 16) bsym conf : (10, 1000, 16, 16)\n"
     ]
    }
   ],
   "source": [
    "sym_beta = np.arange(0.32,0.41,0.01)\n",
    "bsym_beta = np.arange(0.47,0.56,0.01)\n",
    "\n",
    "sym_conf = []\n",
    "bsym_conf = []\n",
    "\n",
    "# N = 16\n",
    "input_shape = (N,N,1)\n",
    "\n",
    "for beta in sym_beta:\n",
    "    conf_name = 'Ising_b%0.3fN%d' %(beta,N)\n",
    "    conf = np.load(data_dir+conf_name+'.npy')\n",
    "    sym_conf.append(conf)\n",
    "\n",
    "for beta in bsym_beta:\n",
    "    conf_name = 'Ising_b%0.3fN%d' %(beta,N)\n",
    "    conf = np.load(data_dir+conf_name+'.npy')\n",
    "    bsym_conf.append(conf)\n",
    "\n",
    "print(\"sym conf :\",np.shape(sym_conf),\"bsym conf :\",np.shape(bsym_conf))"
   ]
  },
  {
   "cell_type": "code",
   "execution_count": 4,
   "id": "fafc99e8",
   "metadata": {},
   "outputs": [
    {
     "data": {
      "text/plain": [
       "<matplotlib.colorbar.Colorbar at 0x7ff83d22cf40>"
      ]
     },
     "execution_count": 4,
     "metadata": {},
     "output_type": "execute_result"
    },
    {
     "data": {
      "image/png": "[encoded data removed]",
      "text/plain": [
       "<Figure size 432x288 with 2 Axes>"
      ]
     },
     "metadata": {
      "needs_background": "light"
     },
     "output_type": "display_data"
    }
   ],
   "source": [
    "plt.title(\"Hot state\")\n",
    "plt.imshow(sym_conf[0][0],cmap='gray',vmin=-1,vmax=1)\n",
    "plt.colorbar()"
   ]
  },
  {
   "cell_type": "code",
   "execution_count": 5,
   "id": "7bb5c3c9",
   "metadata": {},
   "outputs": [
    {
     "data": {
      "text/plain": [
       "<matplotlib.colorbar.Colorbar at 0x7ff83d11d760>"
      ]
     },
     "execution_count": 5,
     "metadata": {},
     "output_type": "execute_result"
    },
    {
     "data": {
      "image/png": "[encoded data removed]",
      "text/plain": [
       "<Figure size 432x288 with 2 Axes>"
      ]
     },
     "metadata": {
      "needs_background": "light"
     },
     "output_type": "display_data"
    }
   ],
   "source": [
    "plt.title(\"Cold state\")\n",
    "plt.imshow(bsym_conf[0][0],cmap='gray',vmin=-1,vmax=1)\n",
    "plt.colorbar()"
   ]
  },
  {
   "cell_type": "code",
   "execution_count": 6,
   "id": "3c086d16",
   "metadata": {},
   "outputs": [
    {
     "data": {
      "text/plain": [
       "((19000, 16, 16), (19000,))"
      ]
     },
     "execution_count": 6,
     "metadata": {},
     "output_type": "execute_result"
    }
   ],
   "source": [
    "x = []\n",
    "y = []\n",
    "for i in range(len(sym_conf)):\n",
    "    for j in range(len(sym_conf[i])):\n",
    "        x.append(sym_conf[i][j])\n",
    "        y.append(0)\n",
    "for i in range(len(bsym_conf)):\n",
    "    for j in range(len(bsym_conf[i])):\n",
    "        x.append(bsym_conf[i][j])\n",
    "        y.append(1)\n",
    "np.shape(x), np.shape(y)"
   ]
  },
  {
   "cell_type": "code",
   "execution_count": 7,
   "id": "d38fbe38",
   "metadata": {},
   "outputs": [
    {
     "data": {
      "image/png": "[encoded data removed]",
      "text/plain": [
       "<Figure size 625x625 with 16 Axes>"
      ]
     },
     "metadata": {
      "needs_background": "light"
     },
     "output_type": "display_data"
    }
   ],
   "source": [
    "fig, ax = plt.subplots(4,4, dpi=125, figsize=(5,5))\n",
    "for i in range(4):\n",
    "    for j in range(4):\n",
    "        ind = i*4 + j\n",
    "        ax[i,j].set_title(str(y[ind*1000]), fontsize=10)\n",
    "        ax[i,j].imshow(x[ind*1000], vmin=-1, vmax=1, cmap='gray')\n",
    "        ax[i,j].axes.xaxis.set_visible(False)\n",
    "        ax[i,j].axes.yaxis.set_visible(False)\n",
    "    \n",
    "plt.show()"
   ]
  },
  {
   "cell_type": "markdown",
   "id": "3761bf00",
   "metadata": {},
   "source": [
    "# 2. Preprocessing"
   ]
  },
  {
   "cell_type": "code",
   "execution_count": 8,
   "id": "d095568a",
   "metadata": {},
   "outputs": [],
   "source": [
    "x_train, x_test, y_train, y_test = train_test_split(x, y, random_state=1234, test_size=0.4, shuffle=True)\n",
    "x_train = np.expand_dims(x_train, -1)\n",
    "x_test = np.expand_dims(x_test, -1)\n",
    "y_train = keras.utils.to_categorical(y_train, 2)\n",
    "y_test = keras.utils.to_categorical(y_test, 2)"
   ]
  },
  {
   "cell_type": "code",
   "execution_count": 9,
   "id": "171c616c",
   "metadata": {},
   "outputs": [
    {
     "name": "stdout",
     "output_type": "stream",
     "text": [
      "(11400, 16, 16, 1) (7600, 16, 16, 1)\n"
     ]
    }
   ],
   "source": [
    "print(np.shape(x_train), np.shape(x_test))"
   ]
  },
  {
   "cell_type": "code",
   "execution_count": 10,
   "id": "dc7d98d4",
   "metadata": {},
   "outputs": [
    {
     "name": "stdout",
     "output_type": "stream",
     "text": [
      "(11400, 2) (7600, 2)\n"
     ]
    }
   ],
   "source": [
    "print(np.shape(y_train), np.shape(y_test))"
   ]
  },
  {
   "cell_type": "code",
   "execution_count": 11,
   "id": "830a42d2",
   "metadata": {},
   "outputs": [
    {
     "data": {
      "image/png": "[encoded data removed]",
      "text/plain": [
       "<Figure size 625x625 with 16 Axes>"
      ]
     },
     "metadata": {
      "needs_background": "light"
     },
     "output_type": "display_data"
    }
   ],
   "source": [
    "fig, ax = plt.subplots(4,4, dpi=125, figsize=(5,5))\n",
    "for i in range(4):\n",
    "    for j in range(4):\n",
    "        ind = i*4 + j\n",
    "        ax[i,j].set_title(str(y_train[ind]), fontsize=10)\n",
    "        ax[i,j].imshow(x_train[ind], vmin=-1, vmax=1, cmap='gray')\n",
    "        ax[i,j].axes.xaxis.set_visible(False)\n",
    "        ax[i,j].axes.yaxis.set_visible(False)\n",
    "    \n",
    "plt.show()"
   ]
  },
  {
   "cell_type": "markdown",
   "id": "51aefeb6",
   "metadata": {},
   "source": [
    "# 3. Model traning"
   ]
  },
  {
   "cell_type": "code",
   "execution_count": 14,
   "id": "a6d5d86e",
   "metadata": {},
   "outputs": [
    {
     "name": "stdout",
     "output_type": "stream",
     "text": [
      "Model: \"sequential\"\n",
      "_________________________________________________________________\n",
      " Layer (type)                Output Shape              Param #   \n",
      "=================================================================\n",
      " conv2d (Conv2D)             (None, 8, 8, 64)          320       \n",
      "                                                                 \n",
      " max_pooling2d (MaxPooling2D  (None, 4, 4, 64)         0         \n",
      " )                                                               \n",
      "                                                                 \n",
      " flatten (Flatten)           (None, 1024)              0         \n",
      "                                                                 \n",
      " dropout (Dropout)           (None, 1024)              0         \n",
      "                                                                 \n",
      " dense (Dense)               (None, 64)                65600     \n",
      "                                                                 \n",
      " dropout_1 (Dropout)         (None, 64)                0         \n",
      "                                                                 \n",
      " dense_1 (Dense)             (None, 2)                 130       \n",
      "                                                                 \n",
      "=================================================================\n",
      "Total params: 66,050\n",
      "Trainable params: 66,050\n",
      "Non-trainable params: 0\n",
      "_________________________________________________________________\n"
     ]
    },
    {
     "name": "stderr",
     "output_type": "stream",
     "text": [
      "2021-12-07 21:22:01.665583: W tensorflow/stream_executor/platform/default/dso_loader.cc:64] Could not load dynamic library 'libcuda.so.1'; dlerror: libcuda.so.1: cannot open shared object file: No such file or directory; LD_LIBRARY_PATH: /opt/apps/easybuild/stacks/2021a/software/Python/3.9.5-GCCcore-10.3.0/lib:/opt/apps/easybuild/stacks/2021a/software/libffi/3.3-GCCcore-10.3.0/lib64:/opt/apps/easybuild/stacks/2021a/software/GMP/6.2.1-GCCcore-10.3.0/lib:/opt/apps/easybuild/stacks/2021a/software/SQLite/3.35.4-GCCcore-10.3.0/lib:/opt/apps/easybuild/stacks/2021a/software/Tcl/8.6.11-GCCcore-10.3.0/lib:/opt/apps/easybuild/stacks/2021a/software/libreadline/8.1-GCCcore-10.3.0/lib:/opt/apps/easybuild/stacks/2021a/software/ncurses/6.2-GCCcore-10.3.0/lib:/opt/apps/easybuild/stacks/2021a/software/binutils/2.36.1-GCCcore-10.3.0/lib:/opt/apps/easybuild/stacks/2021a/software/libarchive/3.5.1-GCCcore-10.3.0/lib:/opt/apps/easybuild/stacks/2021a/software/XZ/5.2.5-GCCcore-10.3.0/lib:/opt/apps/easybuild/stacks/2021a/software/cURL/7.76.0-GCCcore-10.3.0/lib:/opt/apps/easybuild/stacks/2021a/software/OpenSSL/1.1/lib:/opt/apps/easybuild/stacks/2021a/software/bzip2/1.0.8-GCCcore-10.3.0/lib:/opt/apps/easybuild/stacks/2021a/software/zlib/1.2.11-GCCcore-10.3.0/lib:/opt/apps/easybuild/stacks/2021a/software/libtool/2.4.6-GCCcore-10.3.0/lib:/opt/apps/easybuild/stacks/2021a/software/GCCcore/10.3.0/lib64\n",
      "2021-12-07 21:22:01.665620: W tensorflow/stream_executor/cuda/cuda_driver.cc:269] failed call to cuInit: UNKNOWN ERROR (303)\n",
      "2021-12-07 21:22:01.665654: I tensorflow/stream_executor/cuda/cuda_diagnostics.cc:156] kernel driver does not appear to be running on this host (cjpre): /proc/driver/nvidia/version does not exist\n",
      "2021-12-07 21:22:01.665856: I tensorflow/core/platform/cpu_feature_guard.cc:151] This TensorFlow binary is optimized with oneAPI Deep Neural Network Library (oneDNN) to use the following CPU instructions in performance-critical operations:  AVX2 FMA\n",
      "To enable them in other operations, rebuild TensorFlow with the appropriate compiler flags.\n"
     ]
    }
   ],
   "source": [
    "model = keras.Sequential(\n",
    "    [\n",
    "        keras.Input(shape=input_shape),\n",
    "        keras.layers.Conv2D(filters=64, kernel_size=(2,2), strides=2, activation='relu'),\n",
    "        keras.layers.MaxPooling2D(pool_size=(2,2)),\n",
    "        keras.layers.Flatten(),\n",
    "        keras.layers.Dropout(0.25), # Not in the original paper\n",
    "        keras.layers.Dense(64, activation='relu'),\n",
    "        keras.layers.Dropout(0.25), # Not in the original paper\n",
    "        keras.layers.Dense(2, activation='softmax'),\n",
    "    ]\n",
    ")\n",
    "\n",
    "model.summary()"
   ]
  },
  {
   "cell_type": "code",
   "execution_count": 15,
   "id": "4d1b358a",
   "metadata": {},
   "outputs": [],
   "source": [
    "batch_size = 12\n",
    "epochs = 20\n",
    "\n",
    "adam = keras.optimizers.Adam(learning_rate=1e-4,\n",
    "                             beta_1=0.9,\n",
    "                             beta_2=0.999,\n",
    "                             epsilon=1e-07,\n",
    "                             amsgrad=False,\n",
    "                            )\n",
    "\n",
    "model.compile(optimizer=adam, loss='binary_crossentropy',metrics=['accuracy'])"
   ]
  },
  {
   "cell_type": "code",
   "execution_count": 16,
   "id": "fd953f06",
   "metadata": {
    "scrolled": true
   },
   "outputs": [
    {
     "name": "stdout",
     "output_type": "stream",
     "text": [
      "Epoch 1/20\n",
      "855/855 [==============================] - 2s 2ms/step - loss: 0.2104 - accuracy: 0.9398 - val_loss: 0.0691 - val_accuracy: 0.9833\n",
      "Epoch 2/20\n",
      "855/855 [==============================] - 1s 1ms/step - loss: 0.0654 - accuracy: 0.9807 - val_loss: 0.0434 - val_accuracy: 0.9842\n",
      "Epoch 3/20\n",
      "855/855 [==============================] - 1s 1ms/step - loss: 0.0492 - accuracy: 0.9856 - val_loss: 0.0384 - val_accuracy: 0.9833\n",
      "Epoch 4/20\n",
      "855/855 [==============================] - 1s 1ms/step - loss: 0.0447 - accuracy: 0.9857 - val_loss: 0.0394 - val_accuracy: 0.9868\n",
      "Epoch 5/20\n",
      "855/855 [==============================] - 1s 1ms/step - loss: 0.0415 - accuracy: 0.9864 - val_loss: 0.0376 - val_accuracy: 0.9842\n",
      "Epoch 6/20\n",
      "855/855 [==============================] - 1s 1ms/step - loss: 0.0418 - accuracy: 0.9862 - val_loss: 0.0386 - val_accuracy: 0.9842\n",
      "Epoch 7/20\n",
      "855/855 [==============================] - 1s 1ms/step - loss: 0.0377 - accuracy: 0.9871 - val_loss: 0.0396 - val_accuracy: 0.9860\n",
      "Epoch 8/20\n",
      "855/855 [==============================] - 1s 1ms/step - loss: 0.0381 - accuracy: 0.9867 - val_loss: 0.0391 - val_accuracy: 0.9842\n",
      "Epoch 9/20\n",
      "855/855 [==============================] - 1s 1ms/step - loss: 0.0343 - accuracy: 0.9876 - val_loss: 0.0380 - val_accuracy: 0.9842\n",
      "Epoch 10/20\n",
      "855/855 [==============================] - 1s 1ms/step - loss: 0.0354 - accuracy: 0.9875 - val_loss: 0.0409 - val_accuracy: 0.9851\n",
      "Epoch 11/20\n",
      "855/855 [==============================] - 1s 1ms/step - loss: 0.0360 - accuracy: 0.9880 - val_loss: 0.0399 - val_accuracy: 0.9851\n",
      "Epoch 12/20\n",
      "855/855 [==============================] - 1s 1ms/step - loss: 0.0354 - accuracy: 0.9869 - val_loss: 0.0395 - val_accuracy: 0.9851\n",
      "Epoch 13/20\n",
      "855/855 [==============================] - 1s 1ms/step - loss: 0.0333 - accuracy: 0.9877 - val_loss: 0.0399 - val_accuracy: 0.9851\n",
      "Epoch 14/20\n",
      "855/855 [==============================] - 1s 1ms/step - loss: 0.0348 - accuracy: 0.9881 - val_loss: 0.0389 - val_accuracy: 0.9860\n",
      "Epoch 15/20\n",
      "855/855 [==============================] - 1s 1ms/step - loss: 0.0324 - accuracy: 0.9882 - val_loss: 0.0393 - val_accuracy: 0.9860\n",
      "Epoch 16/20\n",
      "855/855 [==============================] - 1s 1ms/step - loss: 0.0326 - accuracy: 0.9888 - val_loss: 0.0392 - val_accuracy: 0.9860\n",
      "Epoch 17/20\n",
      "855/855 [==============================] - 1s 1ms/step - loss: 0.0311 - accuracy: 0.9903 - val_loss: 0.0400 - val_accuracy: 0.9851\n",
      "Epoch 18/20\n",
      "855/855 [==============================] - 1s 1ms/step - loss: 0.0317 - accuracy: 0.9882 - val_loss: 0.0383 - val_accuracy: 0.9851\n",
      "Epoch 19/20\n",
      "855/855 [==============================] - 1s 1ms/step - loss: 0.0301 - accuracy: 0.9890 - val_loss: 0.0396 - val_accuracy: 0.9851\n",
      "Epoch 20/20\n",
      "855/855 [==============================] - 1s 1ms/step - loss: 0.0315 - accuracy: 0.9889 - val_loss: 0.0387 - val_accuracy: 0.9851\n"
     ]
    }
   ],
   "source": [
    "history = model.fit(x_train, y_train, batch_size=batch_size, epochs=epochs, validation_split=0.1)"
   ]
  },
  {
   "cell_type": "code",
   "execution_count": 17,
   "id": "c9fb1086",
   "metadata": {},
   "outputs": [
    {
     "name": "stdout",
     "output_type": "stream",
     "text": [
      "Test loss: 0.03729939088225365\n",
      "Test accuracy: 0.9878947138786316\n"
     ]
    }
   ],
   "source": [
    "score = model.evaluate(x_test, y_test, verbose = 0)\n",
    "print(\"Test loss:\", score[0])\n",
    "print(\"Test accuracy:\", score[1])"
   ]
  },
  {
   "cell_type": "code",
   "execution_count": 19,
   "id": "ca5bfc9c",
   "metadata": {},
   "outputs": [
    {
     "data": {
      "image/png": "[encoded data removed]",
      "text/plain": [
       "<Figure size 432x288 with 1 Axes>"
      ]
     },
     "metadata": {
      "needs_background": "light"
     },
     "output_type": "display_data"
    }
   ],
   "source": [
    "t = range(epochs)\n",
    "\n",
    "plt.title(\"Learning Curve\", fontsize = 18)\n",
    "plt.plot(t, history.history['accuracy'], 'C3', label='acc %0.3f'%(history.history['accuracy'][-1]))\n",
    "plt.plot(t, history.history['loss'], 'C0', label='loss %0.3f'%(history.history['loss'][-1]))\n",
    "plt.legend(loc='center right', fontsize=13)\n",
    "plt.grid(True)"
   ]
  },
  {
   "cell_type": "code",
   "execution_count": 20,
   "id": "6914d479",
   "metadata": {},
   "outputs": [],
   "source": [
    "# Save model\n",
    "model_name = 'IsingN16Coldv2'\n",
    "model.save(model_dir+model_name+'.h5')"
   ]
  },
  {
   "cell_type": "code",
   "execution_count": 21,
   "id": "b1b70fcf",
   "metadata": {},
   "outputs": [],
   "source": [
    "model_a = keras.models.load_model(model_dir+model_name+'.h5')"
   ]
  },
  {
   "cell_type": "markdown",
   "id": "0ccc6f45",
   "metadata": {},
   "source": [
    "# 4. Model Prediction"
   ]
  },
  {
   "cell_type": "markdown",
   "id": "cbb6a215",
   "metadata": {},
   "source": [
    "## 4.1 Load Data"
   ]
  },
  {
   "cell_type": "code",
   "execution_count": 22,
   "id": "4afc7d11",
   "metadata": {
    "scrolled": true
   },
   "outputs": [
    {
     "name": "stdout",
     "output_type": "stream",
     "text": [
      "conf : (30, 1000, 16, 16, 1)\n"
     ]
    }
   ],
   "source": [
    "ext_beta = np.arange(0.428,0.448,0.002)\n",
    "beta_list = np.concatenate((sym_beta, ext_beta, bsym_beta))\n",
    "\n",
    "conf = []\n",
    "\n",
    "N = 16\n",
    "input_shape = (N,N,1)\n",
    "\n",
    "for beta in beta_list:\n",
    "    conf_name = 'Ising_b%0.3fN%d' %(beta,N)\n",
    "    _conf = np.load(data_dir+conf_name+'.npy')\n",
    "    conf.append(_conf)\n",
    "\n",
    "conf = np.expand_dims(conf, -1)\n",
    "\n",
    "print(\"conf :\",np.shape(conf))"
   ]
  },
  {
   "cell_type": "markdown",
   "id": "dd616004",
   "metadata": {},
   "source": [
    "## 4.2 Measure the order parameter"
   ]
  },
  {
   "cell_type": "code",
   "execution_count": 23,
   "id": "00676762",
   "metadata": {
    "scrolled": true
   },
   "outputs": [],
   "source": [
    "# Calculate P_b\n",
    "result = np.zeros((len(conf),1000))\n",
    "for i in range(len(conf)):\n",
    "    result[i] = model.predict(conf[i]).T[1]"
   ]
  },
  {
   "cell_type": "code",
   "execution_count": 24,
   "id": "95321443",
   "metadata": {},
   "outputs": [
    {
     "data": {
      "image/png": "[encoded data removed]",
      "text/plain": [
       "<Figure size 625x625 with 25 Axes>"
      ]
     },
     "metadata": {
      "needs_background": "light"
     },
     "output_type": "display_data"
    }
   ],
   "source": [
    "fig, ax = plt.subplots(5,5, dpi=125, figsize=(5,5))\n",
    "for i in range(5):\n",
    "    for j in range(5):\n",
    "        ind = i*5 + j\n",
    "        ax[i,j].set_title(\"%.3f, beta:%.3f\"%(result[ind][0], beta_list[ind]),fontsize=6)\n",
    "        ax[i,j].imshow(conf[ind][0], vmin=-1, vmax=1, cmap='gray')\n",
    "        ax[i,j].axes.xaxis.set_visible(False)\n",
    "        ax[i,j].axes.yaxis.set_visible(False)\n",
    "    \n",
    "plt.show()"
   ]
  },
  {
   "cell_type": "code",
   "execution_count": 111,
   "id": "6f2c0b84",
   "metadata": {},
   "outputs": [],
   "source": [
    "O_pred = np.average(result, axis=1)\n",
    "O_pred_err = np.sqrt(np.var(result, axis=1))"
   ]
  },
  {
   "cell_type": "code",
   "execution_count": 122,
   "id": "342db51b",
   "metadata": {},
   "outputs": [
    {
     "data": {
      "image/png": "[encoded data removed]",
      "text/plain": [
       "<Figure size 936x720 with 1 Axes>"
      ]
     },
     "metadata": {
      "needs_background": "light"
     },
     "output_type": "display_data"
    }
   ],
   "source": [
    "plt.figure(figsize=(13,10))\n",
    "plt.title(\"Model prediction\",fontsize=25)\n",
    "plt.errorbar(sym_beta,O_pred[:len(sym_beta)], yerr=O_pred_err[:len(sym_beta)], fmt='C0o', label='Trained beta')\n",
    "plt.errorbar(ext_beta,O_pred[len(sym_beta):len(sym_beta)+len(ext_beta)], yerr=O_pred_err[len(sym_beta):len(sym_beta)+len(ext_beta)], fmt='C3o', label='Predicted beta')\n",
    "plt.errorbar(bsym_beta,O_pred[-len(bsym_beta):], yerr=O_pred_err[-len(bsym_beta):],fmt='C0o')\n",
    "plt.legend(loc='center right', fontsize=20)\n",
    "plt.xticks(fontsize=18)\n",
    "plt.yticks(fontsize=18)\n",
    "plt.xlabel(r\"$\\beta$\", fontsize=22)\n",
    "plt.ylabel(r\"$\\langle P_b \\rangle$\", fontsize=22)\n",
    "plt.grid(True)"
   ]
  },
  {
   "cell_type": "markdown",
   "id": "093e469e",
   "metadata": {},
   "source": [
    "# 5. Histogram reweighting"
   ]
  },
  {
   "cell_type": "markdown",
   "id": "ddf39bd3",
   "metadata": {},
   "source": [
    " We calculate the estimator of an observable $O$ using following equation.  \n",
    "$$\n",
    "\\langle O \\rangle = \\frac{\\sum_k O_k p_{k}^{-1} e^{-\\beta E_k}}{\\sum_k p_{k}^{-1} e^{-\\beta E_k}}\n",
    "$$\n",
    "\n",
    "$p_k$ is some probability distribution used when sampling a configuration at some temperature $\\beta_0$.\n",
    "$$\n",
    "p_k = \\frac{1}{Z_0} e^{-1\\beta_0 E_k}\n",
    "$$\n",
    "where $Z_0$ is a partition function calcuated at $\\beta_0$. Using this estimator, we can approximate the estimator of an observable at $\\beta$ which is in vicinity of $\\beta_0$. Substituting $p_k$ into the first equation, we get\n",
    "$$\n",
    "\\langle O \\rangle = \\frac{\\sum_k O_k e^{-(\\beta - \\beta_0) E_k}}{\\sum_k  e^{-(\\beta - \\beta_0) E_k}}\n",
    "$$"
   ]
  },
  {
   "cell_type": "code",
   "execution_count": 79,
   "id": "81f018bb",
   "metadata": {},
   "outputs": [],
   "source": [
    "def calcEnergy(config):\n",
    "    \"\"\"Calculate energy density\n",
    "    \"\"\"\n",
    "    energy = 0\n",
    "    \n",
    "    for i in range(len(config)):\n",
    "        for j in range(len(config)):\n",
    "            s = config[i,j]\n",
    "            nn = config[(i+1)%N,j] \\\n",
    "            + config[(i-1)%N,j] \\\n",
    "            + config[i,(j+1)%N] \\\n",
    "            + config[i,(j-1)%N]\n",
    "            energy += -nn*s\n",
    "    return energy*0.5"
   ]
  },
  {
   "cell_type": "markdown",
   "id": "4cb31469",
   "metadata": {},
   "source": [
    "exp overflow problem"
   ]
  },
  {
   "cell_type": "code",
   "execution_count": 61,
   "id": "f1c6b05c",
   "metadata": {},
   "outputs": [
    {
     "data": {
      "text/plain": [
       "((1000, 16, 16, 1), 0.438)"
      ]
     },
     "execution_count": 61,
     "metadata": {},
     "output_type": "execute_result"
    }
   ],
   "source": [
    "beta_id = 14\n",
    "np.shape(conf[beta_id]), beta_list[beta_id]"
   ]
  },
  {
   "cell_type": "code",
   "execution_count": 62,
   "id": "b2814fd4",
   "metadata": {},
   "outputs": [
    {
     "data": {
      "text/plain": [
       "((1000,), (1000, 16, 16, 1))"
      ]
     },
     "execution_count": 62,
     "metadata": {},
     "output_type": "execute_result"
    }
   ],
   "source": [
    "O_0 = result[beta_id]\n",
    "conf_0 = conf[beta_id]\n",
    "np.shape(O_0), np.shape(conf_0)"
   ]
  },
  {
   "cell_type": "code",
   "execution_count": 86,
   "id": "4aec9884",
   "metadata": {},
   "outputs": [],
   "source": [
    "# Reweighted P_b\n",
    "n_ext = 20 # number of extrapolation point\n",
    "O_re = np.zeros(n_ext) # extrapolated P_b\n",
    "beta_exp = np.linspace(beta_list[0],beta_list[-1],n_ext)\n",
    "beta_0 = beta_list[beta_id] # Parameter chosen for re-weighting\n",
    "for i in range(n_ext):\n",
    "    num = 0.\n",
    "    den = 0.\n",
    "    for j in range(len(conf_0)):\n",
    "        num += O_0[j]*np.exp(-(beta_exp[i] - beta_0) * calcEnergy(conf_0[j]))\n",
    "        den += np.exp(-(beta_exp[i] - beta_0) * calcEnergy(conf_0[j]))\n",
    "    O_re[i] = num/den"
   ]
  },
  {
   "cell_type": "code",
   "execution_count": 87,
   "id": "7a2736a7",
   "metadata": {},
   "outputs": [
    {
     "data": {
      "text/plain": [
       "array([6.40903510e-05, 1.85832719e-04, 5.81004716e-04, 1.86837551e-03,\n",
       "       5.97789024e-03, 1.84569791e-02, 5.30377755e-02, 1.35249728e-01,\n",
       "       2.89048831e-01, 4.96986221e-01, 6.95648461e-01, 8.38672977e-01,\n",
       "       9.23742883e-01, 9.67805506e-01, 9.87836081e-01, 9.95815080e-01,\n",
       "       9.98646612e-01, 9.99573833e-01, 9.99865425e-01, 9.99956495e-01])"
      ]
     },
     "execution_count": 87,
     "metadata": {},
     "output_type": "execute_result"
    }
   ],
   "source": [
    "O_re"
   ]
  },
  {
   "cell_type": "code",
   "execution_count": 97,
   "id": "5be43dc0",
   "metadata": {},
   "outputs": [
    {
     "data": {
      "text/plain": [
       "array([0.32      , 0.33263158, 0.34526316, 0.35789474, 0.37052632,\n",
       "       0.38315789, 0.39578947, 0.40842105, 0.42105263, 0.43368421,\n",
       "       0.44631579, 0.45894737, 0.47157895, 0.48421053, 0.49684211,\n",
       "       0.50947368, 0.52210526, 0.53473684, 0.54736842, 0.56      ])"
      ]
     },
     "execution_count": 97,
     "metadata": {},
     "output_type": "execute_result"
    }
   ],
   "source": [
    "beta_exp"
   ]
  },
  {
   "cell_type": "code",
   "execution_count": 100,
   "id": "4cbd5499",
   "metadata": {},
   "outputs": [
    {
     "data": {
      "image/png": "[encoded data removed]",
      "text/plain": [
       "<Figure size 936x720 with 1 Axes>"
      ]
     },
     "metadata": {
      "needs_background": "light"
     },
     "output_type": "display_data"
    }
   ],
   "source": [
    "plt.figure(figsize=(13,10))\n",
    "plt.title(\"Histogram re-weighting\",fontsize=25)\n",
    "\n",
    "# direct model prediction\n",
    "plt.errorbar(sym_beta,O_pred[:len(sym_beta)], yerr=O_pred_err[:len(sym_beta)], fmt='C0o', label='Trained beta')\n",
    "plt.errorbar(ext_beta,O_pred[len(sym_beta):len(sym_beta)+len(ext_beta)], yerr=O_pred_err[len(sym_beta):len(sym_beta)+len(ext_beta)], fmt='C3o', label='Direct calculation')\n",
    "plt.errorbar(beta_list[beta_id],O_pred[beta_id], yerr=O_pred_err[beta_id], fmt='ko', label=r'Parameter choice $\\beta :%.3f$'%beta_list[beta_id])\n",
    "plt.errorbar(bsym_beta,O_pred[-len(bsym_beta):], yerr=O_pred_err[-len(bsym_beta):],fmt='C0o')\n",
    "\n",
    "# re-weighted prediction\n",
    "plt.plot(beta_exp,O_re,'k-', label='re-weighted prediction') \n",
    "\n",
    "plt.legend(loc='lower right', fontsize=20)\n",
    "plt.xticks(fontsize=18)\n",
    "plt.yticks(fontsize=18)\n",
    "plt.xlabel(r\"$\\beta$\", fontsize=22)\n",
    "plt.ylabel(r\"$\\langle P_b \\rangle$\", fontsize=22)\n",
    "plt.grid(True)"
   ]
  },
  {
   "cell_type": "markdown",
   "id": "c791312d",
   "metadata": {},
   "source": [
    "# 6. Error analysis"
   ]
  },
  {
   "cell_type": "code",
   "execution_count": 112,
   "id": "9b92ecf4",
   "metadata": {},
   "outputs": [],
   "source": [
    "a = np.array([[1,2],[3,4]])"
   ]
  },
  {
   "cell_type": "code",
   "execution_count": 113,
   "id": "0fc08fb6",
   "metadata": {},
   "outputs": [],
   "source": [
    "b = a.shape[:-1]"
   ]
  },
  {
   "cell_type": "code",
   "execution_count": 115,
   "id": "26ce4afc",
   "metadata": {},
   "outputs": [
    {
     "data": {
      "text/plain": [
       "tuple"
      ]
     },
     "execution_count": 115,
     "metadata": {},
     "output_type": "execute_result"
    }
   ],
   "source": [
    "type(b)"
   ]
  },
  {
   "cell_type": "code",
   "execution_count": 116,
   "id": "9de8ba58",
   "metadata": {},
   "outputs": [
    {
     "data": {
      "text/plain": [
       "(2,)"
      ]
     },
     "execution_count": 116,
     "metadata": {},
     "output_type": "execute_result"
    }
   ],
   "source": [
    "b"
   ]
  },
  {
   "cell_type": "code",
   "execution_count": 117,
   "id": "830a5b1f",
   "metadata": {},
   "outputs": [
    {
     "data": {
      "text/plain": [
       "1"
      ]
     },
     "execution_count": 117,
     "metadata": {},
     "output_type": "execute_result"
    }
   ],
   "source": [
    "len(b)"
   ]
  },
  {
   "cell_type": "code",
   "execution_count": 118,
   "id": "fdbdd263",
   "metadata": {},
   "outputs": [
    {
     "data": {
      "text/plain": [
       "array([[1, 2],\n",
       "       [3, 4]])"
      ]
     },
     "execution_count": 118,
     "metadata": {},
     "output_type": "execute_result"
    }
   ],
   "source": [
    "a"
   ]
  },
  {
   "cell_type": "code",
   "execution_count": 119,
   "id": "2a74d62a",
   "metadata": {},
   "outputs": [
    {
     "data": {
      "text/plain": [
       "(2,)"
      ]
     },
     "execution_count": 119,
     "metadata": {},
     "output_type": "execute_result"
    }
   ],
   "source": [
    "b"
   ]
  },
  {
   "cell_type": "code",
   "execution_count": 120,
   "id": "e3b11dc9",
   "metadata": {},
   "outputs": [
    {
     "data": {
      "text/plain": [
       "tuple"
      ]
     },
     "execution_count": 120,
     "metadata": {},
     "output_type": "execute_result"
    }
   ],
   "source": [
    "type(np.shape(a))"
   ]
  },
  {
   "cell_type": "code",
   "execution_count": 122,
   "id": "d82cf86b",
   "metadata": {},
   "outputs": [
    {
     "name": "stdout",
     "output_type": "stream",
     "text": [
      "0\n"
     ]
    }
   ],
   "source": [
    "for i in range(1):\n",
    "    print(i)"
   ]
  },
  {
   "cell_type": "code",
   "execution_count": 130,
   "id": "a7c4f058",
   "metadata": {},
   "outputs": [],
   "source": [
    "def f(x, *args):\n",
    "    print(x)\n",
    "    print(args[0])"
   ]
  },
  {
   "cell_type": "code",
   "execution_count": 131,
   "id": "be4f1a70",
   "metadata": {},
   "outputs": [
    {
     "name": "stdout",
     "output_type": "stream",
     "text": [
      "1\n",
      "2\n"
     ]
    }
   ],
   "source": [
    "f(1,2)"
   ]
  },
  {
   "cell_type": "code",
   "execution_count": null,
   "id": "d1f94ddc",
   "metadata": {},
   "outputs": [],
   "source": []
  }
 ],
 "metadata": {
  "kernelspec": {
   "display_name": "Python 3 (ipykernel)",
   "language": "python",
   "name": "python3"
  },
  "language_info": {
   "codemirror_mode": {
    "name": "ipython",
    "version": 3
   },
   "file_extension": ".py",
   "mimetype": "text/x-python",
   "name": "python",
   "nbconvert_exporter": "python",
   "pygments_lexer": "ipython3",
   "version": "3.9.5"
  }
 },
 "nbformat": 4,
 "nbformat_minor": 5
}
