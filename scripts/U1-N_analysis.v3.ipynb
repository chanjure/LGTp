{
 "cells": [
  {
   "cell_type": "code",
   "execution_count": 22,
   "id": "fd9b2a1b",
   "metadata": {},
   "outputs": [],
   "source": [
    "import numpy as np\n",
    "import matplotlib.pyplot as plt\n",
    "%matplotlib inline\n",
    "import multiprocessing as mp\n",
    "# import cupy as cp\n",
    "import time\n",
    "\n",
    "import os\n",
    "\n",
    "import glob\n",
    "\n",
    "import LGTp as lgt"
   ]
  },
  {
   "cell_type": "code",
   "execution_count": 29,
   "id": "1185bfbd",
   "metadata": {},
   "outputs": [
    {
     "name": "stdout",
     "output_type": "stream",
     "text": [
      "4\n"
     ]
    }
   ],
   "source": [
    "N = 8\n",
    "run_n = 3\n",
    "dim = 4\n",
    "# beta_id = \"b080to120s40\"\n",
    "# beta_id = \"b080to300s20\"\n",
    "# beta_id = 'b010to250s40'\n",
    "beta_id = \"b50to250s40\"\n",
    "# beta_id = \"b100to400s40\" # 3d\n",
    "measure_id = \"U1-%dr%d\"%(N,run_n)+beta_id\n",
    "n_core = os.cpu_count()\n",
    "n_core = 4\n",
    "print(n_core)"
   ]
  },
  {
   "cell_type": "code",
   "execution_count": 30,
   "id": "bb3ea383",
   "metadata": {},
   "outputs": [],
   "source": [
    "work_dir = \"./\"\n",
    "data_dir = work_dir+\"/data/conf/U1/%dd/run%d/U1-%d/\"%(dim,run_n,N)+beta_id+'/'\n",
    "measure_dir = data_dir+\"/measure/\"\n",
    "plot_dir = data_dir+\"/plots/\"\n",
    "\n",
    "os.system('mkdir -p '+measure_dir)\n",
    "os.system('mkdir -p '+plot_dir)\n",
    "\n",
    "u1 = lgt.Lattice([N,N,N,N])\n",
    "u1.init_fields('U1','Cold')\n",
    "bare_args = u1.bare_parameter_generator()\n",
    "g = lgt.action(u1,bare_args)"
   ]
  },
  {
   "cell_type": "code",
   "execution_count": 31,
   "id": "90e7dd77",
   "metadata": {},
   "outputs": [
    {
     "data": {
      "text/plain": [
       "'.//data/conf/U1/4d/run3/U1-8/b50to250s40/'"
      ]
     },
     "execution_count": 31,
     "metadata": {},
     "output_type": "execute_result"
    }
   ],
   "source": [
    "data_dir"
   ]
  },
  {
   "cell_type": "code",
   "execution_count": 32,
   "id": "b0866e1a",
   "metadata": {},
   "outputs": [],
   "source": [
    "# beta_list = np.linspace(0.95,1.05,20)\n",
    "# beta_list = np.linspace(0.80,1.20,40)"
   ]
  },
  {
   "cell_type": "code",
   "execution_count": 33,
   "id": "dc0a477f",
   "metadata": {},
   "outputs": [],
   "source": [
    "def argsort(a,b,c):\n",
    "    indices = a.argsort()\n",
    "    return a[indices], b[indices], c[indices]"
   ]
  },
  {
   "cell_type": "code",
   "execution_count": 34,
   "id": "e1f2902d",
   "metadata": {},
   "outputs": [
    {
     "data": {
      "text/plain": [
       "(39, 200, 8, 8, 8, 8, 4)"
      ]
     },
     "execution_count": 34,
     "metadata": {},
     "output_type": "execute_result"
    }
   ],
   "source": [
    "conf_list = glob.glob(data_dir+'/*.npy')\n",
    "config = []\n",
    "\n",
    "tac_list = []\n",
    "beta_list = []\n",
    "\n",
    "for conf_id in conf_list:\n",
    "    tac_local = int(conf_id.split('tac')[-1].split('.')[0])\n",
    "    tac_list.append(tac_local)\n",
    "    \n",
    "    beta_local = float(conf_id.split('b')[-1][:5])\n",
    "    beta_list.append(beta_local)\n",
    "    \n",
    "    conf = np.load(conf_id)\n",
    "    config.append(conf)\n",
    "\n",
    "beta_list = np.array(beta_list)\n",
    "tac_list = np.array(tac_list)\n",
    "config = np.array(config)\n",
    "beta_list, config, tac_list = argsort(beta_list, config, tac_list)\n",
    "    \n",
    "np.shape(config)"
   ]
  },
  {
   "cell_type": "code",
   "execution_count": 35,
   "id": "b964e422",
   "metadata": {
    "scrolled": true
   },
   "outputs": [
    {
     "data": {
      "text/plain": [
       "array([0.5  , 0.551, 0.603, 0.654, 0.705, 0.756, 0.808, 0.859, 0.91 ,\n",
       "       0.962, 1.013, 1.064, 1.115, 1.167, 1.218, 1.269, 1.321, 1.423,\n",
       "       1.474, 1.526, 1.577, 1.628, 1.679, 1.731, 1.782, 1.833, 1.885,\n",
       "       1.936, 1.987, 2.038, 2.09 , 2.141, 2.192, 2.244, 2.295, 2.346,\n",
       "       2.397, 2.449, 2.5  ])"
      ]
     },
     "execution_count": 35,
     "metadata": {},
     "output_type": "execute_result"
    }
   ],
   "source": [
    "beta_list"
   ]
  },
  {
   "cell_type": "code",
   "execution_count": 36,
   "id": "85634edc",
   "metadata": {
    "scrolled": true
   },
   "outputs": [
    {
     "data": {
      "text/plain": [
       "array([  1,   2,   2,   2,   3,   4,   4,   7,   8,  15,  63,  86,  96,\n",
       "        84,  58,  61,  82,  63,  89,  96, 109,  68, 117,  71,  84, 105,\n",
       "       130,  83,  78, 130,  69,  63,  72,  78,  66,  73,  77,  75, 126])"
      ]
     },
     "execution_count": 36,
     "metadata": {},
     "output_type": "execute_result"
    }
   ],
   "source": [
    "tac_list"
   ]
  },
  {
   "cell_type": "code",
   "execution_count": 37,
   "id": "d438aa9c",
   "metadata": {},
   "outputs": [],
   "source": [
    "def measure(b):\n",
    "#     Plq1 = Pol_r1 = Plq2 = 0.\n",
    "#     Pol_c1 = 0.+0.j\n",
    "    \n",
    "    beta = beta_list[b]\n",
    "    \n",
    "    Plq = np.zeros(len(config[b]), dtype=np.float64)\n",
    "    Pol_c = np.zeros(len(config[b]), dtype=np.complex128)\n",
    "    S = np.zeros(len(config[b]), dtype=np.float64)\n",
    "    \n",
    "    for i in range(len(config[b])):\n",
    "#     for i in range(2):\n",
    "\n",
    "#         n1 = len(config[b])\n",
    "#         n2 = n1*n1\n",
    "        \n",
    "        Plq_local = g.plaquetteSum_nb(config[b][i])\n",
    "        Pol_c_local = g.polyakovLoop_nb(config[b][i])\n",
    "        S_local = g.S_nb(config[b][i])\n",
    "#         Polya = np.sqrt(Polya_c*np.conj(Polya_c))\n",
    "#         print(Plaq, Polya_c, Polya)\n",
    "\n",
    "        Plq[i] = Plq_local\n",
    "        Pol_c[i] = Pol_c_local\n",
    "        S[i] = S_local\n",
    "\n",
    "#         Plq1 += Plaq\n",
    "#         Pol_r1 += Polya\n",
    "#         Pol_c1 += Polya_c\n",
    "#         Plq2 += Plaq*Plaq\n",
    "        \n",
    "#     Plq = Plq1/n1\n",
    "#     C = beta*beta*(Plq2/n1 - Plq1*Plq1/n2)\n",
    "#     Pol_r = Pol_r1/n1\n",
    "#     Pol_c = Pol_c1/n1\n",
    "    \n",
    "    return b, Plq, Pol_c, S"
   ]
  },
  {
   "cell_type": "code",
   "execution_count": 38,
   "id": "481b86fe",
   "metadata": {},
   "outputs": [
    {
     "name": "stdout",
     "output_type": "stream",
     "text": [
      "test run duration : 1.85271 sec\n",
      "for 39 ensemble ~ 72 sec ~ 0.020 hour\n",
      "with 4 core, expecting : 0.005 hour\n"
     ]
    }
   ],
   "source": [
    "# test run\n",
    "start = time.time()\n",
    "measure(0)\n",
    "dur = time.time() - start\n",
    "\n",
    "n_ensem = len(config)\n",
    "n_core = 4\n",
    "expected_dur = n_ensem*dur/n_core\n",
    "\n",
    "\n",
    "print(\"test run duration : %.5f sec\"%(dur))\n",
    "print(\"for %d ensemble ~ %d sec ~ %0.3f hour\"%(n_ensem,n_ensem*dur,n_ensem*dur/3600.))\n",
    "print(\"with %d core, expecting : %0.3f hour\"%(n_core, expected_dur/3600.))"
   ]
  },
  {
   "cell_type": "code",
   "execution_count": 39,
   "id": "6a94be5a",
   "metadata": {
    "scrolled": true
   },
   "outputs": [
    {
     "name": "stdout",
     "output_type": "stream",
     "text": [
      "starting at Tue Apr 19 15:13:17 2022\n",
      "expected end time : Tue Apr 19 15:13:35 2022\n",
      "ended at Tue Apr 19 15:13:25 2022\n"
     ]
    }
   ],
   "source": [
    "now = time.ctime(time.time())\n",
    "expected_end = time.ctime(time.time() + expected_dur)\n",
    "\n",
    "print(\"starting at \"+now)\n",
    "print(\"expected end time : \"+expected_end)\n",
    "\n",
    "p = mp.Pool(n_core)\n",
    "res = p.map(measure, range(len(beta_list)))\n",
    "p.close()\n",
    "p.join()\n",
    "Plq = []\n",
    "Pol_c = []\n",
    "beta = []\n",
    "S = []\n",
    "for i, _r in enumerate(res):\n",
    "    beta_local, Plq_local, Pol_c_local, S_local = _r\n",
    "    beta.append(beta_local)\n",
    "    Plq.append(Plq_local)\n",
    "    Pol_c.append(Pol_c_local)\n",
    "    S.append(S_local)\n",
    "    \n",
    "now = time.ctime(time.time())\n",
    "print(\"ended at \"+now)"
   ]
  },
  {
   "cell_type": "code",
   "execution_count": 40,
   "id": "65f6f955",
   "metadata": {},
   "outputs": [],
   "source": [
    "beta = np.array(beta, dtype=np.int)\n",
    "Plq = np.array(Plq, dtype=np.float64)\n",
    "Pol_c = np.array(Pol_c, dtype=np.complex128)\n",
    "S = np.array(S, dtype=np.float64)\n",
    "Pol_r = np.sqrt(Pol_c*Pol_c.conj()).real"
   ]
  },
  {
   "cell_type": "code",
   "execution_count": 42,
   "id": "0bb6ffcf",
   "metadata": {},
   "outputs": [
    {
     "data": {
      "text/plain": [
       "array([ 0,  1,  2,  3,  4,  5,  6,  7,  8,  9, 10, 11, 12, 13, 14, 15, 16,\n",
       "       17, 18, 19, 20, 21, 22, 23, 24, 25, 26, 27, 28, 29, 30, 31, 32, 33,\n",
       "       34, 35, 36, 37, 38])"
      ]
     },
     "execution_count": 42,
     "metadata": {},
     "output_type": "execute_result"
    }
   ],
   "source": [
    "beta"
   ]
  },
  {
   "cell_type": "code",
   "execution_count": 41,
   "id": "8691e4c2",
   "metadata": {},
   "outputs": [
    {
     "data": {
      "image/png": "[encoded data removed]",
      "text/plain": [
       "<Figure size 1296x720 with 4 Axes>"
      ]
     },
     "metadata": {
      "needs_background": "light"
     },
     "output_type": "display_data"
    }
   ],
   "source": [
    "f = plt.figure(figsize=(18, 10)); #  \n",
    "f.suptitle(measure_id, fontsize=35)\n",
    "\n",
    "sp =  f.add_subplot(2, 2, 1 );\n",
    "plt.errorbar(beta_list, np.abs(np.average(Plq,axis=1)), yerr=np.std(Plq,axis=1),fmt='o',c='IndianRed')\n",
    "plt.xlabel(\"Inverse coupling square beta\", fontsize=20);\n",
    "plt.ylabel(\"|Plaqquet sum|\", fontsize=20);         plt.axis('tight');\n",
    "plt.grid(True)\n",
    "\n",
    "\n",
    "sp =  f.add_subplot(2, 2, 2 );\n",
    "plt.errorbar(beta_list, np.average(Pol_r,axis=1), yerr=np.std(Pol_r,axis=1),fmt='o',c=\"RoyalBlue\")\n",
    "# plt.errorbar(beta_list, Pol_r, yerr=M_err, fmt='C0o')\n",
    "plt.xlabel(\"Inverse coupling square beta\", fontsize=20); \n",
    "plt.ylabel(\"|Polyacov loop| \", fontsize=20);   plt.axis('tight');\n",
    "plt.grid(True)\n",
    "\n",
    "\n",
    "sp =  f.add_subplot(2, 2, 3 );\n",
    "plt.scatter(beta_list, np.std(Plq,axis=1), s=50, marker='o', color='IndianRed')\n",
    "plt.xlabel(\"Inverse coupling square beta\", fontsize=20);  \n",
    "plt.ylabel(\"Specific Heat \", fontsize=20);   plt.axis('tight');   \n",
    "plt.grid(True)\n",
    "\n",
    "\n",
    "sp =  f.add_subplot(2, 2, 4 );\n",
    "sep_id = int(len(beta_list)/2)\n",
    "plt.scatter(np.average(Pol_c.real,axis=1)[:sep_id], np.average(Pol_c.imag,axis=1)[:sep_id], s=50, marker='o', color='RoyalBlue')\n",
    "plt.scatter(np.average(Pol_c.real,axis=1)[sep_id:], np.average(Pol_c.imag,axis=1)[sep_id:], s=50, marker='o', color='IndianRed')\n",
    "plt.xlabel(\"Re(P)\", fontsize=20); \n",
    "plt.ylabel(\"Im(P)\", fontsize=20);   plt.axis('tight');\n",
    "plt.grid(True)"
   ]
  },
  {
   "cell_type": "code",
   "execution_count": 43,
   "id": "2f6bdcba",
   "metadata": {},
   "outputs": [
    {
     "data": {
      "text/plain": [
       "array([0.03940416, 0.04303538, 0.04028779, 0.0398784 , 0.03807214,\n",
       "       0.03837347, 0.03803471, 0.03902066, 0.04027852, 0.04257655,\n",
       "       0.16837851, 0.25369008, 0.29527667, 0.32959011, 0.0629844 ,\n",
       "       0.3764301 , 0.06994477, 0.43325629, 0.07377378, 0.47718006,\n",
       "       0.48943092, 0.50060466, 0.06996254, 0.52369017, 0.52862914,\n",
       "       0.06635726, 0.07353704, 0.55717892, 0.55910069, 0.05167842,\n",
       "       0.24854579, 0.61097198, 0.60298663, 0.62684248, 0.60041022,\n",
       "       0.06852283, 0.62240183, 0.64185478, 0.06836336])"
      ]
     },
     "execution_count": 43,
     "metadata": {},
     "output_type": "execute_result"
    }
   ],
   "source": [
    "np.average(Pol_r,axis=1)"
   ]
  },
  {
   "cell_type": "code",
   "execution_count": 46,
   "id": "4cbfee3b",
   "metadata": {},
   "outputs": [
    {
     "data": {
      "text/plain": [
       "0.06836336449477938"
      ]
     },
     "execution_count": 46,
     "metadata": {},
     "output_type": "execute_result"
    }
   ],
   "source": [
    "np.average(Pol_r,axis=1)[38]"
   ]
  },
  {
   "cell_type": "code",
   "execution_count": 47,
   "id": "22f2b744",
   "metadata": {},
   "outputs": [
    {
     "data": {
      "text/plain": [
       "0.24854578965525703"
      ]
     },
     "execution_count": 47,
     "metadata": {},
     "output_type": "execute_result"
    }
   ],
   "source": [
    "np.average(Pol_r,axis=1)[30]"
   ]
  },
  {
   "cell_type": "code",
   "execution_count": 49,
   "id": "f4d46333",
   "metadata": {},
   "outputs": [
    {
     "data": {
      "text/plain": [
       "0.07353703955449502"
      ]
     },
     "execution_count": 49,
     "metadata": {},
     "output_type": "execute_result"
    }
   ],
   "source": [
    "np.average(Pol_r,axis=1)[26]"
   ]
  },
  {
   "cell_type": "code",
   "execution_count": 53,
   "id": "7c101c95",
   "metadata": {},
   "outputs": [
    {
     "data": {
      "text/plain": [
       "0.06996253548194742"
      ]
     },
     "execution_count": 53,
     "metadata": {},
     "output_type": "execute_result"
    }
   ],
   "source": [
    "np.average(Pol_r,axis=1)[22]"
   ]
  },
  {
   "cell_type": "code",
   "execution_count": 54,
   "id": "3cc5c6b6",
   "metadata": {},
   "outputs": [
    {
     "data": {
      "text/plain": [
       "0.07377377598486654"
      ]
     },
     "execution_count": 54,
     "metadata": {},
     "output_type": "execute_result"
    }
   ],
   "source": [
    "np.average(Pol_r,axis=1)[18]"
   ]
  },
  {
   "cell_type": "code",
   "execution_count": 56,
   "id": "4165e8ea",
   "metadata": {},
   "outputs": [
    {
     "data": {
      "text/plain": [
       "0.06994476693467591"
      ]
     },
     "execution_count": 56,
     "metadata": {},
     "output_type": "execute_result"
    }
   ],
   "source": [
    "np.average(Pol_r,axis=1)[16]"
   ]
  },
  {
   "cell_type": "code",
   "execution_count": 57,
   "id": "7c054bf7",
   "metadata": {},
   "outputs": [
    {
     "data": {
      "text/plain": [
       "0.06298440020422025"
      ]
     },
     "execution_count": 57,
     "metadata": {},
     "output_type": "execute_result"
    }
   ],
   "source": [
    "np.average(Pol_r,axis=1)[14]"
   ]
  },
  {
   "cell_type": "code",
   "execution_count": 58,
   "id": "06a2aa24",
   "metadata": {},
   "outputs": [],
   "source": [
    "odd_conf_id = [14,16,18,22,26,30,38]"
   ]
  },
  {
   "cell_type": "code",
   "execution_count": 59,
   "id": "2e5245ac",
   "metadata": {},
   "outputs": [
    {
     "data": {
      "text/plain": [
       "<matplotlib.collections.PathCollection at 0x7f1afe7bfe50>"
      ]
     },
     "execution_count": 59,
     "metadata": {},
     "output_type": "execute_result"
    },
    {
     "data": {
      "image/png": "[encoded data removed]",
      "text/plain": [
       "<Figure size 432x288 with 1 Axes>"
      ]
     },
     "metadata": {
      "needs_background": "light"
     },
     "output_type": "display_data"
    }
   ],
   "source": [
    "plt.scatter(beta_list,tac_list)"
   ]
  },
  {
   "cell_type": "markdown",
   "id": "5adb7a21",
   "metadata": {},
   "source": [
    "# Save measure"
   ]
  },
  {
   "cell_type": "code",
   "execution_count": 60,
   "id": "5c553811",
   "metadata": {},
   "outputs": [],
   "source": [
    "np.savez(measure_dir+measure_id+'.npz',\n",
    "         beta=beta, \n",
    "         Plq=Plq,\n",
    "         Pol_r = Pol_r,\n",
    "         Pol_c = Pol_c,\n",
    "         S = S,\n",
    "         tac = tac_list,\n",
    "         odd = odd_conf_id\n",
    "        )\n",
    "\n",
    "f.savefig(plot_dir+measure_id+'.png')"
   ]
  },
  {
   "cell_type": "code",
   "execution_count": 69,
   "id": "230701a1",
   "metadata": {},
   "outputs": [],
   "source": [
    "a = \"b050to200s40\""
   ]
  },
  {
   "cell_type": "code",
   "execution_count": 70,
   "id": "dfecf083",
   "metadata": {},
   "outputs": [
    {
     "data": {
      "text/plain": [
       "False"
      ]
     },
     "execution_count": 70,
     "metadata": {},
     "output_type": "execute_result"
    }
   ],
   "source": [
    "a.isdigit()"
   ]
  },
  {
   "cell_type": "code",
   "execution_count": 71,
   "id": "8f91c15c",
   "metadata": {},
   "outputs": [
    {
     "name": "stdout",
     "output_type": "stream",
     "text": [
      "b050to200s40\n"
     ]
    }
   ],
   "source": [
    "for w in a.split():\n",
    "    print(w)"
   ]
  },
  {
   "cell_type": "code",
   "execution_count": 74,
   "id": "3903fceb",
   "metadata": {},
   "outputs": [
    {
     "data": {
      "text/plain": [
       "'40'"
      ]
     },
     "execution_count": 74,
     "metadata": {},
     "output_type": "execute_result"
    }
   ],
   "source": [
    "a[-2:]"
   ]
  }
 ],
 "metadata": {
  "kernelspec": {
   "display_name": "Python 3 (ipykernel)",
   "language": "python",
   "name": "python3"
  },
  "language_info": {
   "codemirror_mode": {
    "name": "ipython",
    "version": 3
   },
   "file_extension": ".py",
   "mimetype": "text/x-python",
   "name": "python",
   "nbconvert_exporter": "python",
   "pygments_lexer": "ipython3",
   "version": "3.7.4"
  }
 },
 "nbformat": 4,
 "nbformat_minor": 5
}
